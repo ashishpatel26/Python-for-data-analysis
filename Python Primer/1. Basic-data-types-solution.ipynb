{
 "cells": [
  {
   "cell_type": "markdown",
   "metadata": {},
   "source": [
    "# Basic Data Types\n",
    "- Boolean types\n",
    "- Numerical types\n",
    "    - Integer\n",
    "    - Float\n",
    "- String types\n",
    "    - Concatenation\n",
    "    - Indexing\n",
    "    - Slicing\n",
    "    - Formatting\n",
    "- Type casting"
   ]
  },
  {
   "cell_type": "markdown",
   "metadata": {},
   "source": [
    "## 1. Boolean types\n",
    "- Boolean variables can have only two types - **True** or **False**"
   ]
  },
  {
   "cell_type": "code",
   "execution_count": 10,
   "metadata": {},
   "outputs": [
    {
     "name": "stdout",
     "output_type": "stream",
     "text": [
      "<class 'bool'>\n",
      "True\n"
     ]
    }
   ],
   "source": [
    "x = True\n",
    "print(type(x))\n",
    "print(x)"
   ]
  },
  {
   "cell_type": "code",
   "execution_count": 11,
   "metadata": {},
   "outputs": [
    {
     "name": "stdout",
     "output_type": "stream",
     "text": [
      "<class 'bool'>\n",
      "False\n"
     ]
    }
   ],
   "source": [
    "y = False\n",
    "print(type(y))\n",
    "print(y)"
   ]
  },
  {
   "cell_type": "code",
   "execution_count": 13,
   "metadata": {},
   "outputs": [
    {
     "name": "stdout",
     "output_type": "stream",
     "text": [
      "False\n",
      "True\n"
     ]
    }
   ],
   "source": [
    "print(x == y)    # check if two variables are equal\n",
    "print(x != y)    # check if two variables are not equal"
   ]
  },
  {
   "cell_type": "markdown",
   "metadata": {
    "collapsed": true
   },
   "source": [
    "### Exercise 1-1.\n",
    "-Implement logical operators AND, OR, and XOR\n",
    "    - Compare x = True, y = True\n",
    "    - Compare x = True, y = False\n",
    "    - Compare x = False, y = False"
   ]
  },
  {
   "cell_type": "code",
   "execution_count": 1,
   "metadata": {},
   "outputs": [
    {
     "name": "stdout",
     "output_type": "stream",
     "text": [
      "X: True, y: True\n",
      "True\n",
      "True\n",
      "False\n",
      "X: True, y: False\n",
      "False\n",
      "True\n",
      "True\n",
      "X: False, y: False\n",
      "False\n",
      "False\n",
      "False\n"
     ]
    }
   ],
   "source": [
    "## Your answer\n",
    "print('X: True, y: True')\n",
    "x = True \n",
    "y = True\n",
    "print(x and y)\n",
    "print(x or y)\n",
    "print(x != y)\n",
    "print('X: True, y: False')\n",
    "x = True\n",
    "y = False\n",
    "print(x and y)\n",
    "print(x or y)\n",
    "print(x != y)\n",
    "print('X: False, y: False')\n",
    "x = False\n",
    "y = False\n",
    "print(x and y)\n",
    "print(x or y)\n",
    "print(x != y)"
   ]
  },
  {
   "cell_type": "markdown",
   "metadata": {},
   "source": [
    "## 2. Numerical types\n",
    "- Integer and float are most commonly used numerical data types"
   ]
  },
  {
   "cell_type": "markdown",
   "metadata": {},
   "source": [
    "### Integers"
   ]
  },
  {
   "cell_type": "code",
   "execution_count": 18,
   "metadata": {},
   "outputs": [
    {
     "name": "stdout",
     "output_type": "stream",
     "text": [
      "<class 'int'>\n"
     ]
    }
   ],
   "source": [
    "# interger variable\n",
    "x = 4\n",
    "print(type(x))"
   ]
  },
  {
   "cell_type": "code",
   "execution_count": 6,
   "metadata": {},
   "outputs": [
    {
     "name": "stdout",
     "output_type": "stream",
     "text": [
      "6\n",
      "2\n",
      "8\n",
      "2.0\n",
      "2\n",
      "0\n",
      "16\n"
     ]
    }
   ],
   "source": [
    "# basic operations of integer type\n",
    "print(x + 2)      # addition\n",
    "print(x - 2)      # subtraction\n",
    "print(x * 2)      # multiplication\n",
    "print(x / 2)      # division (note that result is float type)\n",
    "print(x // 2)     # division (quotient)\n",
    "print(x % 2)      # division (remainder)\n",
    "print(x ** 2)     # exponetiation"
   ]
  },
  {
   "cell_type": "markdown",
   "metadata": {},
   "source": [
    "### Floats"
   ]
  },
  {
   "cell_type": "code",
   "execution_count": 19,
   "metadata": {},
   "outputs": [
    {
     "name": "stdout",
     "output_type": "stream",
     "text": [
      "<class 'float'>\n"
     ]
    }
   ],
   "source": [
    "y = 4.0\n",
    "print(type(y))"
   ]
  },
  {
   "cell_type": "code",
   "execution_count": 16,
   "metadata": {},
   "outputs": [
    {
     "name": "stdout",
     "output_type": "stream",
     "text": [
      "6.0\n",
      "2.0\n",
      "8.0\n",
      "2.0\n",
      "2.0\n",
      "0.0\n",
      "16.0\n"
     ]
    }
   ],
   "source": [
    "# basic operations of float type \n",
    "# note that results are all float type!!\n",
    "print(y + 2)      # addition\n",
    "print(y - 2)      # subtraction\n",
    "print(y * 2)      # multiplication\n",
    "print(y / 2)      # division\n",
    "print(y // 2)     # division (quotient)\n",
    "print(y % 2)      # division (remainder)\n",
    "print(y ** 2)     # exponetiation"
   ]
  },
  {
   "cell_type": "code",
   "execution_count": 20,
   "metadata": {},
   "outputs": [
    {
     "name": "stdout",
     "output_type": "stream",
     "text": [
      "True\n",
      "False\n"
     ]
    }
   ],
   "source": [
    "# note that integer and float are compared based on their values\n",
    "print(x == y)\n",
    "print(x != y)"
   ]
  },
  {
   "cell_type": "code",
   "execution_count": 21,
   "metadata": {},
   "outputs": [
    {
     "name": "stdout",
     "output_type": "stream",
     "text": [
      "6\n",
      "6.0\n"
     ]
    }
   ],
   "source": [
    "# changing the values of numerical variables\n",
    "x = x + 2\n",
    "print(x)\n",
    "y += 2            # this is simpler\n",
    "print(y)"
   ]
  },
  {
   "cell_type": "markdown",
   "metadata": {},
   "source": [
    "### Exercise 1-2.\n",
    "- Define integer variable **a** with value 10\n",
    "    - Divide **a** by 2 and assign result back into **a**\n",
    "    - Exponentiate **a** by 3 and assign result into variable **c**\n",
    "    - Sum **a** and **c** and print out result\n",
    "- Define float variable **b** with value 10.0\n",
    "    - Multiply **b** by 3 and substract 10. Assign result into variable **d**\n",
    "    - Print out remainder of division operation of **d** by 4"
   ]
  },
  {
   "cell_type": "code",
   "execution_count": 2,
   "metadata": {},
   "outputs": [
    {
     "name": "stdout",
     "output_type": "stream",
     "text": [
      "130.0\n",
      "0.0\n"
     ]
    }
   ],
   "source": [
    "## Your answer\n",
    "a = 10\n",
    "a /= 2\n",
    "c = a ** 3 \n",
    "print(a + c)\n",
    "b = 10.0\n",
    "d = b * 3 - 10\n",
    "print(d % 4)"
   ]
  },
  {
   "cell_type": "markdown",
   "metadata": {},
   "source": [
    "## 3. String types"
   ]
  },
  {
   "cell_type": "code",
   "execution_count": 22,
   "metadata": {},
   "outputs": [
    {
     "name": "stdout",
     "output_type": "stream",
     "text": [
      "<class 'str'>\n",
      "Monty\n"
     ]
    }
   ],
   "source": [
    "s1 = 'Monty'     # string can be generated using single quotes\n",
    "print(type(s1))\n",
    "print(s1)"
   ]
  },
  {
   "cell_type": "code",
   "execution_count": 28,
   "metadata": {},
   "outputs": [
    {
     "name": "stdout",
     "output_type": "stream",
     "text": [
      "<class 'str'>\n",
      "Python\n"
     ]
    }
   ],
   "source": [
    "s2 = \"Python\"    # string can be generated using double quotes as well\n",
    "print(type(s2))\n",
    "print(s2)"
   ]
  },
  {
   "cell_type": "code",
   "execution_count": 25,
   "metadata": {},
   "outputs": [
    {
     "name": "stdout",
     "output_type": "stream",
     "text": [
      "<class 'str'>\n",
      " \n"
     ]
    }
   ],
   "source": [
    "s3 = ' '          # strings without explicit contents can be generated\n",
    "print(type(s3))\n",
    "print(s3)"
   ]
  },
  {
   "cell_type": "code",
   "execution_count": 27,
   "metadata": {},
   "outputs": [
    {
     "name": "stdout",
     "output_type": "stream",
     "text": [
      "12\n",
      "5\n",
      "1\n",
      "6\n"
     ]
    }
   ],
   "source": [
    "# Lenght of string\n",
    "print(len(s))\n",
    "print(len(s1))\n",
    "print(len(s3))\n",
    "print(len(s2))"
   ]
  },
  {
   "cell_type": "markdown",
   "metadata": {},
   "source": [
    "### Concatenation"
   ]
  },
  {
   "cell_type": "code",
   "execution_count": 26,
   "metadata": {},
   "outputs": [
    {
     "name": "stdout",
     "output_type": "stream",
     "text": [
      "Monty Python\n"
     ]
    }
   ],
   "source": [
    "# String concatenation\n",
    "# Here, '+' operator has slightly different usage \n",
    "s = s1 + s3 + s2\n",
    "print(s)"
   ]
  },
  {
   "cell_type": "markdown",
   "metadata": {},
   "source": [
    "### Indexing"
   ]
  },
  {
   "cell_type": "code",
   "execution_count": 34,
   "metadata": {},
   "outputs": [
    {
     "name": "stdout",
     "output_type": "stream",
     "text": [
      "Monty Python\n",
      "M\n",
      "o\n",
      "n\n",
      "o\n",
      "n\n"
     ]
    }
   ],
   "source": [
    "# Indexing not only works for string, but also for tuples, lists, etc.\n",
    "# Note that Python indices start with 0\n",
    "print(s)\n",
    "print(s[0])\n",
    "print(s[1])\n",
    "print(s[2])\n",
    "print(s[-2])\n",
    "print(s[-1])"
   ]
  },
  {
   "cell_type": "markdown",
   "metadata": {},
   "source": [
    "### Slicing\n",
    "String**[Starting index:Ending index]**"
   ]
  },
  {
   "cell_type": "code",
   "execution_count": 37,
   "metadata": {},
   "outputs": [
    {
     "name": "stdout",
     "output_type": "stream",
     "text": [
      "Monty\n",
      "Monty\n",
      "Python\n"
     ]
    }
   ],
   "source": [
    "# When slicing, starting index is inclusive, but ending element is not. Do not be confused!\n",
    "print(s[0:5])\n",
    "print(s[:5])\n",
    "print(s[-6:])"
   ]
  },
  {
   "cell_type": "markdown",
   "metadata": {},
   "source": [
    "### Formatting\n",
    "'{}'.format(value)"
   ]
  },
  {
   "cell_type": "code",
   "execution_count": 39,
   "metadata": {},
   "outputs": [
    {
     "name": "stdout",
     "output_type": "stream",
     "text": [
      "Python is fun!\n",
      "Python, Ruby, and Java are fun!\n"
     ]
    }
   ],
   "source": [
    "s1 = '{} is fun!'.format('Python')\n",
    "print(s1)\n",
    "s2 = '{}, {}, and {} are fun!'.format('Python', 'Ruby', 'Java')\n",
    "print(s2)"
   ]
  },
  {
   "cell_type": "markdown",
   "metadata": {},
   "source": [
    "### Exercise 1-3.\n",
    "- Create three string variables **str1**, **str2**, and **str3** containing words \"I\", \"love\", and \"Jane\"\n",
    "- Concatenate three variables and assign result into variable **str4**. Print out **str4**\n",
    "- Using slicing, extract only \"I love\" from **str4**\n",
    "- Using concatenation, create variable **str5** containing \"I love Amy\". Print out **str5**"
   ]
  },
  {
   "cell_type": "code",
   "execution_count": 5,
   "metadata": {},
   "outputs": [
    {
     "name": "stdout",
     "output_type": "stream",
     "text": [
      "I love Jane\n",
      "I love Amy\n"
     ]
    }
   ],
   "source": [
    "## Your answer\n",
    "str1 = 'I'\n",
    "str2 = 'love'\n",
    "str3 = 'Jane'\n",
    "str4 = str1 + ' ' + str2 + ' ' + str3\n",
    "print(str4)\n",
    "str4 = str4[:6]\n",
    "str5 = str4 + ' ' + 'Amy'\n",
    "print(str5)"
   ]
  },
  {
   "cell_type": "markdown",
   "metadata": {},
   "source": [
    "## 4. Type casting\n",
    "- Data type of variables can be converted if they are compatible\n",
    "- Highly powerful tool in data analysis"
   ]
  },
  {
   "cell_type": "code",
   "execution_count": 41,
   "metadata": {},
   "outputs": [
    {
     "name": "stdout",
     "output_type": "stream",
     "text": [
      "<class 'int'>\n",
      "<class 'float'>\n",
      "<class 'int'>\n"
     ]
    }
   ],
   "source": [
    "# converting integer into float, and float into integer\n",
    "i = 5\n",
    "print(type(i))\n",
    "f = float(i)\n",
    "print(type(f))\n",
    "ii = int(f)\n",
    "print(type(ii))"
   ]
  },
  {
   "cell_type": "code",
   "execution_count": 42,
   "metadata": {},
   "outputs": [
    {
     "name": "stdout",
     "output_type": "stream",
     "text": [
      "<class 'int'>\n",
      "<class 'str'>\n",
      "<class 'float'>\n"
     ]
    }
   ],
   "source": [
    "# converting numerical into string, and string into numerical\n",
    "i = 5\n",
    "print(type(i))\n",
    "s = str(i)\n",
    "print(type(s))\n",
    "f = float(s)\n",
    "print(type(f))"
   ]
  },
  {
   "cell_type": "code",
   "execution_count": 43,
   "metadata": {},
   "outputs": [
    {
     "name": "stdout",
     "output_type": "stream",
     "text": [
      "<class 'str'>\n"
     ]
    },
    {
     "ename": "ValueError",
     "evalue": "could not convert string to float: 'Jane'",
     "output_type": "error",
     "traceback": [
      "\u001b[1;31m---------------------------------------------------------------------------\u001b[0m",
      "\u001b[1;31mValueError\u001b[0m                                Traceback (most recent call last)",
      "\u001b[1;32m<ipython-input-43-eb05e3c3690a>\u001b[0m in \u001b[0;36m<module>\u001b[1;34m()\u001b[0m\n\u001b[0;32m      2\u001b[0m \u001b[0ms\u001b[0m \u001b[1;33m=\u001b[0m \u001b[1;34m'Jane'\u001b[0m\u001b[1;33m\u001b[0m\u001b[0m\n\u001b[0;32m      3\u001b[0m \u001b[0mprint\u001b[0m\u001b[1;33m(\u001b[0m\u001b[0mtype\u001b[0m\u001b[1;33m(\u001b[0m\u001b[0ms\u001b[0m\u001b[1;33m)\u001b[0m\u001b[1;33m)\u001b[0m\u001b[1;33m\u001b[0m\u001b[0m\n\u001b[1;32m----> 4\u001b[1;33m \u001b[0mf\u001b[0m \u001b[1;33m=\u001b[0m \u001b[0mfloat\u001b[0m\u001b[1;33m(\u001b[0m\u001b[0ms\u001b[0m\u001b[1;33m)\u001b[0m\u001b[1;33m\u001b[0m\u001b[0m\n\u001b[0m",
      "\u001b[1;31mValueError\u001b[0m: could not convert string to float: 'Jane'"
     ]
    }
   ],
   "source": [
    "# if types are not compatible, error\n",
    "s = 'Jane'\n",
    "print(type(s))\n",
    "f = float(s)        # error"
   ]
  },
  {
   "cell_type": "markdown",
   "metadata": {},
   "source": [
    "### Exercise 1-4.\n",
    "- Create variables **i** and **s** containing 4414 and \"4414\"\n",
    "- Compare two variables to check if they are equal\n",
    "- Find out a way to make them equal"
   ]
  },
  {
   "cell_type": "code",
   "execution_count": 7,
   "metadata": {},
   "outputs": [
    {
     "name": "stdout",
     "output_type": "stream",
     "text": [
      "False\n",
      "True\n",
      "True\n"
     ]
    }
   ],
   "source": [
    "## Your answer\n",
    "i = 4414\n",
    "s = '4414'\n",
    "print(i == s)\n",
    "## method 1 - convert into integer\n",
    "s = int(s)\n",
    "print(i == s)\n",
    "## method 2 - convert into string\n",
    "i = 4414\n",
    "s = '4414'\n",
    "i = str(i)\n",
    "print(i == s)"
   ]
  }
 ],
 "metadata": {
  "kernelspec": {
   "display_name": "Python 3",
   "language": "python",
   "name": "python3"
  },
  "language_info": {
   "codemirror_mode": {
    "name": "ipython",
    "version": 3
   },
   "file_extension": ".py",
   "mimetype": "text/x-python",
   "name": "python",
   "nbconvert_exporter": "python",
   "pygments_lexer": "ipython3",
   "version": "3.6.1"
  }
 },
 "nbformat": 4,
 "nbformat_minor": 2
}
