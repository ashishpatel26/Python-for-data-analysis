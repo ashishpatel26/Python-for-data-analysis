{
 "cells": [
  {
   "cell_type": "markdown",
   "metadata": {},
   "source": [
    "# File Handling\n",
    "- Reading text files\n",
    "    - Opening text file\n",
    "    - ```read()``` function\n",
    "    - ```readlines()``` function\n",
    "    - ```readline()``` function\n",
    "    - Parsing data\n",
    "    - Encoding data\n",
    "- Writing text files\n",
    "    - Creating text file\n",
    "    - Writing files\n",
    "    - Appending elements"
   ]
  },
  {
   "cell_type": "markdown",
   "metadata": {},
   "source": [
    "## 1. Reading text files\n",
    "- Text files (.txt) can be opened using open() function in Python\n",
    "    - When reading a file, set *mode* as 'r'\n",
    "    - In general, **utf-8** encoding is used\n",
    "\n",
    "<br>\n",
    "```open(file_name, mode, encoding = 'utf-8')```\n",
    "\n",
    "<br>    \n",
    "- To read the opened files, there are three options. Which functions is preferable is largely dependent upon situation.\n",
    "    - read()\n",
    "    - readline()\n",
    "    - readlines()"
   ]
  },
  {
   "cell_type": "markdown",
   "metadata": {},
   "source": [
    "### Opening text file"
   ]
  },
  {
   "cell_type": "code",
   "execution_count": 2,
   "metadata": {},
   "outputs": [
    {
     "name": "stdout",
     "output_type": "stream",
     "text": [
      "<_io.TextIOWrapper name='text.txt' mode='r' encoding='utf-8'>\n"
     ]
    }
   ],
   "source": [
    "# opening text file\n",
    "file = open('text.txt', 'r', encoding = 'utf-8')\n",
    "print(file)\n",
    "file.close()      # it is desirable to close file after usage"
   ]
  },
  {
   "cell_type": "markdown",
   "metadata": {},
   "source": [
    "### ```read()``` function\n",
    "- ```read()``` converts all contents in text file in single string"
   ]
  },
  {
   "cell_type": "code",
   "execution_count": 3,
   "metadata": {},
   "outputs": [
    {
     "name": "stdout",
     "output_type": "stream",
     "text": [
      "<class 'str'>\n"
     ]
    }
   ],
   "source": [
    "file = open('text.txt', 'r', encoding = 'utf-8')\n",
    "data = file.read()\n",
    "print(type(data))"
   ]
  },
  {
   "cell_type": "code",
   "execution_count": 5,
   "metadata": {},
   "outputs": [
    {
     "data": {
      "text/plain": [
       "'This is first line\\nThis is second line\\nThis is third line\\nThis is fourth line\\nThis is fifth line'"
      ]
     },
     "execution_count": 5,
     "metadata": {},
     "output_type": "execute_result"
    }
   ],
   "source": [
    "data"
   ]
  },
  {
   "cell_type": "markdown",
   "metadata": {},
   "source": [
    "### ```readlines()``` function\n",
    "- ```readlines()``` reads contents in text file line by line, and saves it in a list\n",
    "- Each element in resulting list is each line in text file"
   ]
  },
  {
   "cell_type": "code",
   "execution_count": 6,
   "metadata": {},
   "outputs": [
    {
     "name": "stdout",
     "output_type": "stream",
     "text": [
      "<class 'list'>\n"
     ]
    }
   ],
   "source": [
    "file = open('text.txt', 'r', encoding = 'utf-8')\n",
    "data = file.readlines()\n",
    "print(type(data))\n",
    "file.close()"
   ]
  },
  {
   "cell_type": "code",
   "execution_count": 7,
   "metadata": {},
   "outputs": [
    {
     "name": "stdout",
     "output_type": "stream",
     "text": [
      "['This is first line\\n', 'This is second line\\n', 'This is third line\\n', 'This is fourth line\\n', 'This is fifth line']\n"
     ]
    }
   ],
   "source": [
    "print(data)"
   ]
  },
  {
   "cell_type": "code",
   "execution_count": 8,
   "metadata": {},
   "outputs": [
    {
     "name": "stdout",
     "output_type": "stream",
     "text": [
      "['This is first line', 'This is second line', 'This is third line', 'This is fourth line', 'This is fifth line']\n"
     ]
    }
   ],
   "source": [
    "### below code block is almost equivalent to above\n",
    "# can you explain why? \n",
    "# what is different between two? \n",
    "# what does split() function do here?\n",
    "file = open('text.txt', 'r', encoding = 'utf-8')\n",
    "data = file.read().split(' ')\n",
    "file.close()\n",
    "print(data)"
   ]
  },
  {
   "cell_type": "markdown",
   "metadata": {},
   "source": [
    "### ```readline()``` function\n",
    "- ```readline()``` reads only contents in first line of text file, and saves it in single string"
   ]
  },
  {
   "cell_type": "code",
   "execution_count": 18,
   "metadata": {},
   "outputs": [
    {
     "name": "stdout",
     "output_type": "stream",
     "text": [
      "<class 'str'>\n"
     ]
    }
   ],
   "source": [
    "file = open('text.txt', 'r', encoding = 'utf-8')\n",
    "data = file.readline().replace('\\n', ' ')\n",
    "print(type(data))\n",
    "file.close()"
   ]
  },
  {
   "cell_type": "code",
   "execution_count": 19,
   "metadata": {},
   "outputs": [
    {
     "data": {
      "text/plain": [
       "'This is first line '"
      ]
     },
     "execution_count": 19,
     "metadata": {},
     "output_type": "execute_result"
    }
   ],
   "source": [
    "data"
   ]
  },
  {
   "cell_type": "markdown",
   "metadata": {},
   "source": [
    "### Parsing data\n",
    "- In most cases, datasets are consisted of multiple columns.\n",
    "- In other words, each line should be parsed.\n",
    "- One way to handle such dataset is to split line by line and store it into 2-D list (i.e., matrix format)\n",
    "- For instance, consider grades dataset provided\n",
    "\n",
    "| Name | Score  | Grade   |\n",
    "|------|--------|---------|\n",
    "|Jane  | 97     | A+      |\n",
    "|Johnny  | 80     | B+     |\n",
    "|Lisa  | 60     | C-     |\n",
    "|Mike  | 95     | A0      |"
   ]
  },
  {
   "cell_type": "code",
   "execution_count": 23,
   "metadata": {},
   "outputs": [
    {
     "name": "stdout",
     "output_type": "stream",
     "text": [
      "4\n",
      "['Jane,97,A+', 'Johnny,80,B+', 'Lisa,60,C-', 'Mike,95,A0 ']\n"
     ]
    }
   ],
   "source": [
    "file = open('grades.txt', 'r', encoding = 'utf-8')\n",
    "data = file.read().split('\\n')\n",
    "print(len(data))\n",
    "print(data)\n",
    "file.close()        # you can see that each line(row) is stored in each element in list"
   ]
  },
  {
   "cell_type": "code",
   "execution_count": 24,
   "metadata": {},
   "outputs": [
    {
     "name": "stdout",
     "output_type": "stream",
     "text": [
      "[['Jane', '97', 'A+'], ['Johnny', '80', 'B+'], ['Lisa', '60', 'C-'], ['Mike', '95', 'A0 ']]\n",
      "['Jane', '97', 'A+']\n",
      "['Johnny', '80', 'B+']\n",
      "['Lisa', '60', 'C-']\n",
      "['Mike', '95', 'A0 ']\n"
     ]
    }
   ],
   "source": [
    "data_parsed = data\n",
    "for i in range(len(data_parsed)):\n",
    "    data_parsed[i] = data_parsed[i].split(',')\n",
    "print(data_parsed)        # you can see that each line(row) is parsed and stored!!\n",
    "\n",
    "for row in data_parsed:\n",
    "    print(row)"
   ]
  },
  {
   "cell_type": "code",
   "execution_count": 25,
   "metadata": {},
   "outputs": [
    {
     "data": {
      "text/plain": [
       "'9780'"
      ]
     },
     "execution_count": 25,
     "metadata": {},
     "output_type": "execute_result"
    }
   ],
   "source": [
    "'97' + '80'"
   ]
  },
  {
   "cell_type": "markdown",
   "metadata": {},
   "source": [
    "### Encoding data\n",
    "- In light of ```data_parsed``` above, we have another potential problem.\n",
    "    - Scores (97, 80, 60, 95) should be interpreted as integers or floats, but they are strings now\n",
    "- So, we have to *encode* data.\n",
    "    - Convert scores into integers or floats"
   ]
  },
  {
   "cell_type": "code",
   "execution_count": 26,
   "metadata": {},
   "outputs": [
    {
     "name": "stdout",
     "output_type": "stream",
     "text": [
      "97\n",
      "97\n",
      "80\n",
      "80\n",
      "60\n",
      "60\n",
      "95\n",
      "95\n",
      "[['Jane', 97, 'A+'], ['Johnny', 80, 'B+'], ['Lisa', 60, 'C-'], ['Mike', 95, 'A0 ']]\n"
     ]
    }
   ],
   "source": [
    "data_encoded = data_parsed\n",
    "for i in range(len(data_encoded)):\n",
    "    print(data_encoded[i][1])\n",
    "    data_encoded[i][1] = int(data_encoded[i][1])   # use type casting to convert score into integer\n",
    "    print(data_encoded[i][1])\n",
    "print(data_encoded)"
   ]
  },
  {
   "cell_type": "code",
   "execution_count": 27,
   "metadata": {},
   "outputs": [
    {
     "name": "stdout",
     "output_type": "stream",
     "text": [
      "['Jane', 97, 'A+']\n",
      "['Johnny', 80, 'B+']\n",
      "['Lisa', 60, 'C-']\n",
      "['Mike', 95, 'A0 ']\n"
     ]
    }
   ],
   "source": [
    "for row in data_encoded:\n",
    "    print(row)"
   ]
  },
  {
   "cell_type": "markdown",
   "metadata": {},
   "source": [
    "### Exercise 5-1.\n",
    "- Read pitcher stats from ```pitcher_stats.txt``` file\n",
    "- Parse & encode data as above\n",
    "    - Name should be string, W & L integer, and ERA float\n",
    "    - Note that text file is delimited by '/'\n",
    "\n",
    "| Name | W  | L   |  ERA|\n",
    "|------|--------|---------|--------|\n",
    "|Kershaw  | 18     | 4      |2.31 |\n",
    "|Jansen  | 5     | 0     |1.32|\n",
    "|Wood  | 16    | 3     |2.72|\n",
    "|Hill  | 12     | 8      |3.32|"
   ]
  },
  {
   "cell_type": "code",
   "execution_count": null,
   "metadata": {
    "collapsed": true
   },
   "outputs": [],
   "source": [
    "## Your answer"
   ]
  },
  {
   "cell_type": "markdown",
   "metadata": {},
   "source": [
    "## Writing text files\n",
    "- Text files (.txt) can be opened using open() function in Python\n",
    "    - When writing a file, set *mode* as 'w' or 'a'\n",
    "    - In general, **utf-8** encoding is used\n",
    "\n",
    "<br>\n",
    "```open(file_name, mode, encoding = 'utf-8')```\n",
    "\n",
    "<br>    \n",
    "- There are two modes of writing\n",
    "    - write ('w')\n",
    "    - append ('a')"
   ]
  },
  {
   "cell_type": "markdown",
   "metadata": {},
   "source": [
    "### Creating text file\n",
    "- If *mode* is set to 'w', new text file is created"
   ]
  },
  {
   "cell_type": "code",
   "execution_count": null,
   "metadata": {
    "collapsed": true
   },
   "outputs": [],
   "source": [
    "file = open('new_file.txt', 'w', encoding = 'utf-8')\n",
    "print(file)\n",
    "file.close()"
   ]
  },
  {
   "cell_type": "markdown",
   "metadata": {},
   "source": [
    "### Writing files\n",
    "- Use ```write()``` function to add contents to file"
   ]
  },
  {
   "cell_type": "code",
   "execution_count": null,
   "metadata": {
    "collapsed": true
   },
   "outputs": [],
   "source": [
    "# writing strings line by line\n",
    "file = open('new_file_2.txt', 'w', encoding = 'utf-8')\n",
    "file.write('To be, or not to be - that is the question:')\n",
    "file.write(\"Whether 'tis nobler in the mind to suffer\")\n",
    "file.write('The slings and arrows of outrageous fortune')\n",
    "file.write('Or to take arms against a sea of troubles')\n",
    "file.write('And by opposing end them')\n",
    "file.close()"
   ]
  },
  {
   "cell_type": "code",
   "execution_count": null,
   "metadata": {
    "collapsed": true
   },
   "outputs": [],
   "source": [
    "## one problem is that write() does not distinguish lines per se\n",
    "# writing strings line by line (with '\\n')\n",
    "file = open('new_file_3.txt', 'w', encoding = 'utf-8')\n",
    "file.write('To be, or not to be - that is the question: \\n')\n",
    "file.write(\"Whether 'tis nobler in the mind to suffer \\n\")\n",
    "file.write('The slings and arrows of outrageous fortune \\n')\n",
    "file.write('Or to take arms against a sea of troubles \\n')\n",
    "file.write('And by opposing end them')\n",
    "file.close()"
   ]
  },
  {
   "cell_type": "code",
   "execution_count": null,
   "metadata": {
    "collapsed": true
   },
   "outputs": [],
   "source": [
    "# writing contents in list\n",
    "alist = ['to', 'be', 'or', 'not', 'to', 'be']\n",
    "file = open('new_file_4.txt', 'w', encoding = 'utf-8')\n",
    "for word in alist:\n",
    "    file.write(word + '\\n')\n",
    "file.close()"
   ]
  },
  {
   "cell_type": "code",
   "execution_count": null,
   "metadata": {
    "collapsed": true
   },
   "outputs": [],
   "source": [
    "# writing contents in list\n",
    "# spliting each word with space\n",
    "alist = ['to', 'be', 'or', 'not', 'to', 'be']\n",
    "file = open('new_file_5.txt', 'w', encoding = 'utf-8')\n",
    "for word in alist:\n",
    "    file.write(word + ' ')\n",
    "file.close()"
   ]
  },
  {
   "cell_type": "code",
   "execution_count": null,
   "metadata": {
    "collapsed": true
   },
   "outputs": [],
   "source": [
    "# writing int/floats\n",
    "alist = [2, 3, 7, 4, 5]\n",
    "file = open('new_file_6.txt', 'w', encoding = 'utf-8')\n",
    "for number in alist:\n",
    "    file.write(str(number) + '\\n')\n",
    "file.close()"
   ]
  },
  {
   "cell_type": "markdown",
   "metadata": {},
   "source": [
    "### Appending elements\n",
    "- Sometimes, one might just one to \"add\" some elements to existing text file\n",
    "- In this case, set opening mode as ```'a'```"
   ]
  },
  {
   "cell_type": "code",
   "execution_count": null,
   "metadata": {
    "collapsed": true
   },
   "outputs": [],
   "source": [
    "blist = [1, 6, 8, 9, 10]\n",
    "file = open('new_file_6.txt', 'a', encoding = 'utf-8')\n",
    "for number in blist:\n",
    "    file.write(str(number) + '\\n')\n",
    "file.close()"
   ]
  },
  {
   "cell_type": "markdown",
   "metadata": {},
   "source": [
    "### Exercise 5-2.\n",
    "- Write & save data parsed & encoded from Exercise 1-1. into a new text file ```pitcher_stats_new.txt```\n",
    "- Dataset should look the same"
   ]
  },
  {
   "cell_type": "code",
   "execution_count": null,
   "metadata": {
    "collapsed": true
   },
   "outputs": [],
   "source": [
    "## Your answer"
   ]
  },
  {
   "cell_type": "markdown",
   "metadata": {},
   "source": [
    "### Exercise 5-3.\n",
    "- Parse & save below string into new text file ```zen_of_python.txt```\n",
    "- Split each line by **'.'** and save as each line in text file\n",
    "\n",
    "```\"Beautiful is better than ugly. Explicit is better than implicit. Simple is better than complex. Complex is better than complicated. Flat is better than nested. Sparse is better than dense. Readability counts. Special cases aren't special enough to break the rules. Although practicality beats purity. Errors should never pass silently. \"```"
   ]
  },
  {
   "cell_type": "code",
   "execution_count": 30,
   "metadata": {},
   "outputs": [],
   "source": [
    "## Your answer\n",
    "import this"
   ]
  },
  {
   "cell_type": "markdown",
   "metadata": {},
   "source": [
    "### Exercise 5-4.\n",
    "- Open ```zen_of_python.txt``` and append contents in below list, saving each element in list to each line\n",
    "\n",
    "```zen = [\"Unless explicitly silenced.\", \"In the face of ambiguity, refuse the temptation to guess.\" \"There should be one-- and preferably only one --obvious way to do it.\", \"Although that way may not be obvious at first unless you're Dutch. Now is better than never.\",  \"Although never is often better than *right* now.\", \"If the implementation is hard to explain, it's a bad idea.\", \"If the implementation is easy to explain, it may be a good idea.\"]```"
   ]
  },
  {
   "cell_type": "code",
   "execution_count": null,
   "metadata": {
    "collapsed": true
   },
   "outputs": [],
   "source": [
    "## Your answer"
   ]
  }
 ],
 "metadata": {
  "kernelspec": {
   "display_name": "Python 3",
   "language": "python",
   "name": "python3"
  },
  "language_info": {
   "codemirror_mode": {
    "name": "ipython",
    "version": 3
   },
   "file_extension": ".py",
   "mimetype": "text/x-python",
   "name": "python",
   "nbconvert_exporter": "python",
   "pygments_lexer": "ipython3",
   "version": "3.6.1"
  }
 },
 "nbformat": 4,
 "nbformat_minor": 2
}
