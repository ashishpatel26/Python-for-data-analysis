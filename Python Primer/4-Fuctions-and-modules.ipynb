{
 "cells": [
  {
   "cell_type": "markdown",
   "metadata": {},
   "source": [
    "# Functions and Modules\n",
    "- Fuctions\n",
    "    - Arguments\n",
    "    - Defining function\n",
    "    - Built-in functions\n",
    "- Modules and Packages\n",
    "    - Useful packages in Python"
   ]
  },
  {
   "cell_type": "markdown",
   "metadata": {},
   "source": [
    "## 1. Functions\n",
    "- Functions define set of codes that can be **reused**\n",
    "- In other words, programmers use functions to enhance reusability of their code\n",
    "- Below are some of most common functions used in Python\n",
    "    - ```print()```\n",
    "    - ```range()```\n",
    "    - ```len()```\n",
    "    - ```append()```"
   ]
  },
  {
   "cell_type": "code",
   "execution_count": null,
   "metadata": {},
   "outputs": [],
   "source": [
    "# usage of some common functions\n",
    "print('How are you?')          # print()\n",
    "alist = [1, 2, 3, 4, 5]\n",
    "length = len(alist)            # len()\n",
    "print(length)\n",
    "alist.append(6)                # append()\n",
    "print(alist)"
   ]
  },
  {
   "cell_type": "code",
   "execution_count": null,
   "metadata": {
    "scrolled": false
   },
   "outputs": [],
   "source": [
    "# range() function\n",
    "x = range(5)                    # range()\n",
    "for i in x:\n",
    "    print(i)"
   ]
  },
  {
   "cell_type": "markdown",
   "metadata": {},
   "source": [
    "### Arguments\n",
    "- Most Python functions have arguments (or parameters) \n",
    "- Arguments are assigned in ```'( )'```\n",
    "    - Some of them are optional (surrounded by ```[]```)\n",
    "    - Others are essential (if not specified, error occurs)\n",
    "- Example: ```range([start], stop ,[step])``` \n",
    "    - ```start```: first number of sequence\n",
    "    - ```stop```: maximum number in sequence (**not inclusive**)\n",
    "    - ```step```: difference between each two neighboring numbers in sequence (constant)"
   ]
  },
  {
   "cell_type": "code",
   "execution_count": null,
   "metadata": {},
   "outputs": [],
   "source": [
    "# one arguments \n",
    "for i in range(3):\n",
    "    print(i)"
   ]
  },
  {
   "cell_type": "code",
   "execution_count": null,
   "metadata": {},
   "outputs": [],
   "source": [
    "# two arguments\n",
    "for i in range(1, 3):\n",
    "    print(i)"
   ]
  },
  {
   "cell_type": "code",
   "execution_count": null,
   "metadata": {},
   "outputs": [],
   "source": [
    "# with three arguments\n",
    "for i in range(1, 10, 2):\n",
    "    print(i)"
   ]
  },
  {
   "cell_type": "code",
   "execution_count": null,
   "metadata": {},
   "outputs": [],
   "source": [
    "# with negative step size\n",
    "for i in range(5, 1, -1):\n",
    "    print(i)"
   ]
  },
  {
   "cell_type": "markdown",
   "metadata": {},
   "source": [
    "### Exercise 5-1.\n",
    "- Create list containing integers 1 to 100\n",
    "- Using ```range()``` and ```len()```, increment each element in list by 1"
   ]
  },
  {
   "cell_type": "code",
   "execution_count": null,
   "metadata": {
    "collapsed": true
   },
   "outputs": [],
   "source": [
    "## Your answer"
   ]
  },
  {
   "cell_type": "markdown",
   "metadata": {},
   "source": [
    "### Defining a function\n",
    "- General structure of Python function is like below\n",
    "    - There could be any number of arguments in one function\n",
    "    - Instructions can be specified in code block (separated with ```tab```)\n",
    "    - Returns object as result\n",
    "        - If not specified, ```None``` is returned\n",
    "    \n",
    "```python\n",
    "def function_name(arg1, arg2, ..., argn):\n",
    "    <instructions>\n",
    "    return object\n",
    "```"
   ]
  },
  {
   "cell_type": "code",
   "execution_count": null,
   "metadata": {},
   "outputs": [],
   "source": [
    "# function without argument & return object\n",
    "def my_function():\n",
    "    print('I like Python')\n",
    "\n",
    "my_function()     # calling a function"
   ]
  },
  {
   "cell_type": "code",
   "execution_count": null,
   "metadata": {},
   "outputs": [],
   "source": [
    "# function with argument & return object\n",
    "def my_function(language):\n",
    "    sentence = 'I like ' + language\n",
    "    return sentence\n",
    "\n",
    "# By using arguments, we can enhance reusability of functions!!!\n",
    "x = my_function('Python')\n",
    "print(x)\n",
    "y = my_function('Java')\n",
    "print(y)\n",
    "z = my_function('C++')\n",
    "print(z)"
   ]
  },
  {
   "cell_type": "code",
   "execution_count": null,
   "metadata": {},
   "outputs": [],
   "source": [
    "# using if-else in function\n",
    "def my_function(language):\n",
    "    if language in ['Python', 'Java', 'Ruby']:\n",
    "        return 'I like ' + language\n",
    "    elif language in ['C++', 'C']:\n",
    "        return 'I do not like ' + language\n",
    "    else:\n",
    "        return 'I do not know ' + language\n",
    "\n",
    "print(my_function('Ruby'))\n",
    "print(my_function('C++'))\n",
    "print(my_function('Scala'))"
   ]
  },
  {
   "cell_type": "code",
   "execution_count": null,
   "metadata": {},
   "outputs": [],
   "source": [
    "# using for loop in function\n",
    "def my_function(languages):\n",
    "    for language in languages:\n",
    "        if language in ['Python', 'Java', 'Ruby']:\n",
    "            print('I like ' + language)\n",
    "        elif language in ['C++', 'C']:\n",
    "            print('I do not like ' + language)\n",
    "        else:\n",
    "            print('I do not know ' + language)\n",
    "\n",
    "my_function(['Ruby', 'Python', 'Fortran', 'C'])\n",
    "print()\n",
    "my_function(('Java', 'C++', 'C#'))"
   ]
  },
  {
   "cell_type": "markdown",
   "metadata": {},
   "source": [
    "### Exercise 5-2.\n",
    "- Create a function ```calculator()``` that performs simple operations between two integers\n",
    "    - Take in three arguments, ```integer_1, integer_2```, and  ```operation```\n",
    "        - If ```operation``` is equal to ```\"add\"```, perform addition of two integers ( ```integer_1 + integer_2```)\n",
    "        - If ```operation``` is equal to ```\"sub\"```, perform substraction of two integers ( ```integer_1 - integer_2```)\n",
    "        - If ```operation``` is equal to ```\"mul\"```, perform multiplication of two integers ( ```integer_1 X integer_2```)\n",
    "        - If ```operation``` is equal to ```\"div\"```, perform division of two integers ( ```integer_1 / integer_2```)"
   ]
  },
  {
   "cell_type": "code",
   "execution_count": null,
   "metadata": {
    "collapsed": true
   },
   "outputs": [],
   "source": [
    "## Your answer"
   ]
  },
  {
   "cell_type": "markdown",
   "metadata": {},
   "source": [
    "### Built-in functions\n",
    "- Python provides many powerful built-in functions\n",
    "- Always remember, *\"do not reinvent the wheel!\"*\n",
    "- Useful built-in functions for data analysis\n",
    "```ruby\n",
    "abs()\n",
    "append()\n",
    "enumerate()\n",
    "int(), float(), str()\n",
    "len()\n",
    "list(), tuple(), set(), dict()\n",
    "max(), min()\n",
    "open()\n",
    "range()\n",
    "sorted()\n",
    "type()\n",
    "```"
   ]
  },
  {
   "cell_type": "markdown",
   "metadata": {},
   "source": [
    "### Exercise 5-3.\n",
    "- Using built-in functions above, perform below instructions\n",
    "    - Create a tuple containing integers ```2, 4, 6, 8, 10```\n",
    "    - Convert the tuple into a list\n",
    "    - Convert each element in list into string\n",
    "    - Add elements ```'x', 'y', 'z'``` to list\n",
    "    - Print each element in list "
   ]
  },
  {
   "cell_type": "code",
   "execution_count": null,
   "metadata": {
    "collapsed": true
   },
   "outputs": [],
   "source": [
    "## Your answer"
   ]
  },
  {
   "cell_type": "markdown",
   "metadata": {},
   "source": [
    "## 2. Modules and Packages\n",
    "- Modules are Python files (```.py```) that can be accessed by other Python files or interpreters.\n",
    "- Packages are hierarchical aggregates of modules, which allow access via ```dot(.)```\n",
    "- Like built-in functions, Python provides many default modules and packages that are handy and useful\n",
    "    - In Anaconda, a lot more packages for data analysis are included (e.g., ```NumPy```, ```Pandas```, ```Scikit-learn```, ```BeautifulSoup```, ...)\n",
    "    \n",
    "```ruby\n",
    "import package_name [as alias]\n",
    "import package_name.module_name\n",
    "from package_name import module_name\n",
    "from package_name import *\n",
    "\n",
    "import module_name [as alias]\n",
    "import module_name.function_name\n",
    "from module_name import function_name\n",
    "from module_name import *\n",
    "```\n",
    "\n",
    "<img src=\"https://qph.ec.quoracdn.net/main-qimg-0aae16bb7e3c8c148078d24d4da94dba-c\" style=\"width: 400px\"/>"
   ]
  },
  {
   "cell_type": "code",
   "execution_count": null,
   "metadata": {},
   "outputs": [],
   "source": [
    "import math         # import package\n",
    "x = math.exp(10)\n",
    "print(x)\n",
    "\n",
    "import math as m     # use alias\n",
    "x = m.exp(10)\n",
    "print(x)\n",
    "\n",
    "from math import exp  # import function from package\n",
    "x = exp(10)\n",
    "print(x)\n",
    "\n",
    "from math import *    # import all classes/functions in package\n",
    "x = exp(10)\n",
    "print(x)"
   ]
  },
  {
   "cell_type": "markdown",
   "metadata": {},
   "source": [
    "### Useful packages in Python\n",
    "- Some commonly used Python default packages (from \"\")\n",
    "    - The Python Standard Library for Python 3.x: https://docs.python.org/3/library/index.html\n",
    "```ruby\n",
    "collections\n",
    "datetime\n",
    "math\n",
    "time\n",
    "urllib\n",
    "itertools\n",
    "```\n",
    "- Highly useful Python packages for Data Analysis (included in Anaconda)\n",
    "    - https://docs.python.org/3/library/index.html\n",
    "```ruby\n",
    "jupyter\n",
    "matplotlib\n",
    "nltk\n",
    "networkx\n",
    "numpy\n",
    "pandas\n",
    "scikit-learn\n",
    "scipy\n",
    "xlrd\n",
    "```"
   ]
  },
  {
   "cell_type": "code",
   "execution_count": null,
   "metadata": {},
   "outputs": [],
   "source": [
    "# usage of Counter() in collections\n",
    "from collections import Counter\n",
    "l = ['a', 'a', 'b', 'c', 'c', 'c', 'd', 'd', 'd', 'e', 'e', 'f', 'f', 'f', 'f']\n",
    "counts = Counter(l)\n",
    "print(counts)\n",
    "print(counts.most_common(3))"
   ]
  },
  {
   "cell_type": "code",
   "execution_count": null,
   "metadata": {},
   "outputs": [],
   "source": [
    "# usage of time\n",
    "import time\n",
    "print(time.clock())\n",
    "time.sleep(5)\n",
    "print(time.clock())"
   ]
  },
  {
   "cell_type": "code",
   "execution_count": null,
   "metadata": {},
   "outputs": [],
   "source": [
    "# usage of itertools\n",
    "import itertools\n",
    "girls = ['Jane', 'Lisa', 'Lindsay']\n",
    "boys = ['Mike', 'Johnny']\n",
    "# cartesian product\n",
    "for c in itertools.product(girls, boys):\n",
    "    print(c)\n",
    "print()\n",
    "# combination of elements\n",
    "for c in itertools.combinations('xyz', 2):\n",
    "    print(c)\n",
    "print()\n",
    "# permutation of elements\n",
    "for c in itertools.permutations('xyz', 2):\n",
    "    print(c)"
   ]
  },
  {
   "cell_type": "markdown",
   "metadata": {},
   "source": [
    "### Exercise 5-4.\n",
    "- Using ```collections.Counter```, print elements that show **over 2 times** in below list\n",
    "<br>\n",
    "```ruby\n",
    "l = [1, 1, 7, 7, 7, 4, 4, 4, 2, 1, 5, 5, 9, 11, 3, 'a', 'x', 9, 8, 'b', 'b', 'z', 'b']```"
   ]
  },
  {
   "cell_type": "code",
   "execution_count": null,
   "metadata": {
    "collapsed": true
   },
   "outputs": [],
   "source": [
    "## Your answer"
   ]
  },
  {
   "cell_type": "markdown",
   "metadata": {},
   "source": [
    "### Exercise 5-5.\n",
    "- Using functions in ```math``` library, calculate ```y``` and print result\n",
    "<br>\n",
    "$y = e^{\\pi} + 10$"
   ]
  },
  {
   "cell_type": "code",
   "execution_count": null,
   "metadata": {
    "collapsed": true
   },
   "outputs": [],
   "source": [
    "## Your answer"
   ]
  },
  {
   "cell_type": "markdown",
   "metadata": {},
   "source": [
    "### Exercise 5-6.\n",
    "- Certain lock has a password that is made of two letters and two numbers (e.g., ```K-G-1-4```)\n",
    "- Find number of all possible combinations of password that satisfies conditions:\n",
    "    - First letter is uppercase vowel\n",
    "    - Second letter is any letter in alphabet from \"a\" to \"e\", case-insensitive (i.e., can be uppercase or lowercase)\n",
    "    - First number is prime number under 5 (5 not inclusive)\n",
    "    - Second number is even number under 7 "
   ]
  },
  {
   "cell_type": "code",
   "execution_count": null,
   "metadata": {
    "collapsed": true
   },
   "outputs": [],
   "source": [
    "## Your answer"
   ]
  }
 ],
 "metadata": {
  "kernelspec": {
   "display_name": "Python 3",
   "language": "python",
   "name": "python3"
  },
  "language_info": {
   "codemirror_mode": {
    "name": "ipython",
    "version": 3
   },
   "file_extension": ".py",
   "mimetype": "text/x-python",
   "name": "python",
   "nbconvert_exporter": "python",
   "pygments_lexer": "ipython3",
   "version": "3.6.1"
  }
 },
 "nbformat": 4,
 "nbformat_minor": 2
}
