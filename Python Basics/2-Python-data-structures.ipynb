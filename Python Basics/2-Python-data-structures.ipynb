{
 "cells": [
  {
   "cell_type": "markdown",
   "metadata": {},
   "source": [
    "# Python Data Structures\n",
    "- Tuple\n",
    "    - Creating tuples\n",
    "    - *in* operator\n",
    "    - Indexing & slicing\n",
    "- List\n",
    "    - Creating lists\n",
    "    - Modifying lists\n",
    "    - List functions\n",
    "- Set\n",
    "    - Creating sets\n",
    "    - Set functions\n",
    "- Dictionary\n",
    "    - Creating dictionaries\n",
    "    - Dictionary functions"
   ]
  },
  {
   "cell_type": "markdown",
   "metadata": {},
   "source": [
    "## 1. Tuple\n",
    "- Tuple contains elements in certain order\n",
    "- Tuples are *immutable*; once generated, its elements cannot be changed"
   ]
  },
  {
   "cell_type": "markdown",
   "metadata": {},
   "source": [
    "### Creating tuples"
   ]
  },
  {
   "cell_type": "code",
   "execution_count": 3,
   "metadata": {},
   "outputs": [
    {
     "name": "stdout",
     "output_type": "stream",
     "text": [
      "<class 'tuple'>\n",
      "(1, 2, 3)\n"
     ]
    }
   ],
   "source": [
    "# tuples can be created by placing elements in '( )'\n",
    "t1 = (1, 2, 3)\n",
    "print(type(t1))\n",
    "print(t1)"
   ]
  },
  {
   "cell_type": "code",
   "execution_count": 4,
   "metadata": {},
   "outputs": [
    {
     "name": "stdout",
     "output_type": "stream",
     "text": [
      "<class 'tuple'>\n",
      "('a', 'b', 1, 2)\n"
     ]
    }
   ],
   "source": [
    "# tuples can also be created without '( )'\n",
    "# note that variables of different types can be inserted in tuple\n",
    "t2 = 'a', 'b', 1, 2\n",
    "print(type(t2))\n",
    "print(t2)"
   ]
  },
  {
   "cell_type": "code",
   "execution_count": 5,
   "metadata": {},
   "outputs": [
    {
     "name": "stdout",
     "output_type": "stream",
     "text": [
      "<class 'tuple'>\n",
      "((1, 2, 3), ('a', 'b', 1, 2))\n"
     ]
    }
   ],
   "source": [
    "# tuples in tuple\n",
    "t3 = (t1, t2)\n",
    "print(type(t3))\n",
    "print(t3)"
   ]
  },
  {
   "cell_type": "code",
   "execution_count": 6,
   "metadata": {},
   "outputs": [
    {
     "name": "stdout",
     "output_type": "stream",
     "text": [
      "3\n",
      "4\n",
      "2\n"
     ]
    }
   ],
   "source": [
    "# length of tuple means number of elements in tuple\n",
    "print(len(t1))\n",
    "print(len(t2))\n",
    "print(len(t3))       # note that length of t3 is 2, not 7"
   ]
  },
  {
   "cell_type": "markdown",
   "metadata": {},
   "source": [
    "### *in* operator\n",
    "- element *in* tuple\n",
    "    - True if element exists in tuple\n",
    "    - False if element does not exist in tuple\n",
    "- Applies same to list and set"
   ]
  },
  {
   "cell_type": "code",
   "execution_count": 7,
   "metadata": {},
   "outputs": [
    {
     "name": "stdout",
     "output_type": "stream",
     "text": [
      "True\n",
      "False\n"
     ]
    }
   ],
   "source": [
    "t4 = (1, 2, 3, 4, 5)\n",
    "print(1 in t4)\n",
    "print(10 in t4)"
   ]
  },
  {
   "cell_type": "markdown",
   "metadata": {},
   "source": [
    "### Indexing & Slicing\n",
    "- Tuple indexing & slicing can be performed similarly to string indexing & slicing\n",
    "- Applies same to list"
   ]
  },
  {
   "cell_type": "code",
   "execution_count": 8,
   "metadata": {},
   "outputs": [
    {
     "name": "stdout",
     "output_type": "stream",
     "text": [
      "a\n",
      "(1, 2, 3)\n"
     ]
    }
   ],
   "source": [
    "t5 = ('a', 'b', 'c', 1, 2, 3)\n",
    "print(t5[0])\n",
    "print(t5[3:])"
   ]
  },
  {
   "cell_type": "code",
   "execution_count": 9,
   "metadata": {},
   "outputs": [
    {
     "name": "stdout",
     "output_type": "stream",
     "text": [
      "a\n",
      "(1, 2, 3)\n",
      "('a', 'b')\n"
     ]
    }
   ],
   "source": [
    "t6 = ('a', 'b', 'c', (1, 2, 3))\n",
    "print(t6[0])\n",
    "print(t6[-1])        # note that last element of t6 is another tuple\n",
    "print(t6[:2])"
   ]
  },
  {
   "cell_type": "markdown",
   "metadata": {},
   "source": [
    "### Exercise 2-1.\n",
    "- Create a tuple t1 containing elements 1, 4, (2, 3), 'John', 'Jane'\n",
    "- By slicing, create a tuple t2 containing last two elements in t1\n",
    "- Check whether element (2,3) is in tuple t1\n",
    "- Check whether element 1 is in tuple t2"
   ]
  },
  {
   "cell_type": "code",
   "execution_count": null,
   "metadata": {
    "collapsed": true
   },
   "outputs": [],
   "source": [
    "## Your answer"
   ]
  },
  {
   "cell_type": "markdown",
   "metadata": {},
   "source": [
    "## 2. Lists\n",
    "- Lists are similar to tuple, except that they are *mutable*\n",
    "- Due to such flexibility, lists are most commonly used"
   ]
  },
  {
   "cell_type": "markdown",
   "metadata": {},
   "source": [
    "### Creating lists"
   ]
  },
  {
   "cell_type": "code",
   "execution_count": 10,
   "metadata": {},
   "outputs": [
    {
     "name": "stdout",
     "output_type": "stream",
     "text": [
      "<class 'list'>\n",
      "[1, 2, 3]\n"
     ]
    }
   ],
   "source": [
    "# lists can be created by placing elements in '[ ]'\n",
    "l1 = [1, 2, 3]\n",
    "print(type(l1))\n",
    "print(l1)"
   ]
  },
  {
   "cell_type": "code",
   "execution_count": 12,
   "metadata": {},
   "outputs": [
    {
     "name": "stdout",
     "output_type": "stream",
     "text": [
      "3\n",
      "[1, 2]\n"
     ]
    }
   ],
   "source": [
    "# creating n-D lists\n",
    "l2 = [[1, 2], [3, 4], [5, 6]]                    # 2D list\n",
    "print(len(l2))\n",
    "print(l2[0])"
   ]
  },
  {
   "cell_type": "code",
   "execution_count": 13,
   "metadata": {},
   "outputs": [
    {
     "name": "stdout",
     "output_type": "stream",
     "text": [
      "2\n",
      "[[1, 2], [3, 4]]\n",
      "[3, 4]\n"
     ]
    }
   ],
   "source": [
    "# creating n-D lists\n",
    "l3 = [[[1, 2], [3, 4]], [[5, 6], [7, 8]]]        # 3D list\n",
    "print(len(l3))\n",
    "print(l3[0])\n",
    "print(l3[0][1])"
   ]
  },
  {
   "cell_type": "code",
   "execution_count": 11,
   "metadata": {},
   "outputs": [
    {
     "name": "stdout",
     "output_type": "stream",
     "text": [
      "[1, 2, 3]\n",
      "(1, 2, 3)\n"
     ]
    }
   ],
   "source": [
    "# note that lists can be casted into tuples, and vice versa\n",
    "atuple = (1, 2, 3)\n",
    "alist = list(atuple)\n",
    "print(alist)\n",
    "atuple = tuple(alist)\n",
    "print(atuple)"
   ]
  },
  {
   "cell_type": "markdown",
   "metadata": {},
   "source": [
    "### Modifying lists\n",
    "- As mentioned, lists are *mutable*, elements in list can be modified"
   ]
  },
  {
   "cell_type": "code",
   "execution_count": 14,
   "metadata": {},
   "outputs": [
    {
     "name": "stdout",
     "output_type": "stream",
     "text": [
      "[0, 2, 3]\n"
     ]
    }
   ],
   "source": [
    "# changing list by indexing\n",
    "l4 = [1, 2, 3]\n",
    "l4[0] = 0        \n",
    "print(l4)"
   ]
  },
  {
   "cell_type": "code",
   "execution_count": 15,
   "metadata": {},
   "outputs": [
    {
     "name": "stdout",
     "output_type": "stream",
     "text": [
      "[2, 4, 6, 8, 10]\n"
     ]
    }
   ],
   "source": [
    "# changing list by slicing\n",
    "l5 = [2, 4, 6, 7, 9]\n",
    "l5[3:] = [8, 10]\n",
    "print(l5)"
   ]
  },
  {
   "cell_type": "code",
   "execution_count": 16,
   "metadata": {},
   "outputs": [
    {
     "name": "stdout",
     "output_type": "stream",
     "text": [
      "['a', 'c', 'd', 'e']\n"
     ]
    }
   ],
   "source": [
    "# deleting elements by del function\n",
    "l6 = ['a', 'b', 'c', 'd', 'e']\n",
    "del l6[1]\n",
    "print(l6)"
   ]
  },
  {
   "cell_type": "markdown",
   "metadata": {},
   "source": [
    "### List functions\n",
    "- There are many Python functions that are useful to manipulate lists\n",
    "- Those include:\n",
    "    - append()\n",
    "    - sort()\n",
    "    - count()"
   ]
  },
  {
   "cell_type": "code",
   "execution_count": 17,
   "metadata": {},
   "outputs": [
    {
     "name": "stdout",
     "output_type": "stream",
     "text": [
      "[1, 2, 3, 4]\n"
     ]
    }
   ],
   "source": [
    "# append() adds element at the end of list\n",
    "l7 = [1, 2, 3]\n",
    "l7.append(4)\n",
    "print(l7)"
   ]
  },
  {
   "cell_type": "code",
   "execution_count": 18,
   "metadata": {},
   "outputs": [
    {
     "name": "stdout",
     "output_type": "stream",
     "text": [
      "[1, 2, 3, 4, 7]\n",
      "['a', 'b', 'd', 'e', 'f']\n"
     ]
    }
   ],
   "source": [
    "# sort() sorts list in ascending order\n",
    "l8 = [4, 7, 2, 3, 1]\n",
    "l8.sort()\n",
    "print(l8)\n",
    "l9 = ['b', 'e', 'd', 'a', 'f']          # string elements can be sorted as well\n",
    "l9.sort()\n",
    "print(l9)"
   ]
  },
  {
   "cell_type": "markdown",
   "metadata": {},
   "source": [
    "### Exercise 2-2.\n",
    "- Create list containing elements 1, 7, [4, 9], ('a', 'b'), 'f'\n",
    "- Add element 'g' to end of list \n",
    "- Using slicing, create another list containing last two elements of list"
   ]
  },
  {
   "cell_type": "code",
   "execution_count": 19,
   "metadata": {
    "collapsed": true
   },
   "outputs": [],
   "source": [
    "## Your answer"
   ]
  },
  {
   "cell_type": "markdown",
   "metadata": {},
   "source": [
    "## 3. Set\n",
    "- Sets are similar to lists, but does not have order and duplicates; they only contain unique elements"
   ]
  },
  {
   "cell_type": "markdown",
   "metadata": {},
   "source": [
    "### Creating sets"
   ]
  },
  {
   "cell_type": "code",
   "execution_count": 25,
   "metadata": {},
   "outputs": [
    {
     "name": "stdout",
     "output_type": "stream",
     "text": [
      "<class 'set'>\n",
      "{1, 2, 3, 4}\n"
     ]
    }
   ],
   "source": [
    "# sets can be created by placing elements in '{ }'\n",
    "s1 = {1, 2, 3, 4, 3, 2}\n",
    "print(type(s1))\n",
    "print(s1)"
   ]
  },
  {
   "cell_type": "code",
   "execution_count": 26,
   "metadata": {},
   "outputs": [
    {
     "name": "stdout",
     "output_type": "stream",
     "text": [
      "(2, 4, 5)\n",
      "[2, 4, 5]\n",
      "{2, 4, 5}\n"
     ]
    }
   ],
   "source": [
    "# set can be casted to lists & tuples and vice versa\n",
    "s2 = {4, 5, 2}\n",
    "t1 = tuple(s2)\n",
    "print(t1)\n",
    "l1 = list(s2)\n",
    "print(l1)\n",
    "s2 = set(l1)\n",
    "print(s2)"
   ]
  },
  {
   "cell_type": "markdown",
   "metadata": {},
   "source": [
    "### Set functions\n",
    "- There are many Python functions that are useful to manipulate sets\n",
    "- Those include:\n",
    "    - add()\n",
    "    - remove()\n",
    "    - update()"
   ]
  },
  {
   "cell_type": "code",
   "execution_count": 27,
   "metadata": {},
   "outputs": [
    {
     "name": "stdout",
     "output_type": "stream",
     "text": [
      "{1, 10, 2, 5}\n"
     ]
    }
   ],
   "source": [
    "# add() adds one element to set\n",
    "s3 = {1, 10, 2}\n",
    "s3.add(5)\n",
    "print(s3)"
   ]
  },
  {
   "cell_type": "code",
   "execution_count": 28,
   "metadata": {},
   "outputs": [
    {
     "name": "stdout",
     "output_type": "stream",
     "text": [
      "{2, 4}\n"
     ]
    }
   ],
   "source": [
    "# remove() deletes certain element in set\n",
    "s4 = {2, 4, 5}\n",
    "s4.remove(5)\n",
    "print(s4)"
   ]
  },
  {
   "cell_type": "code",
   "execution_count": 29,
   "metadata": {},
   "outputs": [
    {
     "name": "stdout",
     "output_type": "stream",
     "text": [
      "{2, 3, 4, 5, 7}\n"
     ]
    }
   ],
   "source": [
    "# update() adds more than one element to set\n",
    "s5 = {2, 7, 3}\n",
    "s5.update([2, 4, 5])\n",
    "print(s5)"
   ]
  },
  {
   "cell_type": "markdown",
   "metadata": {},
   "source": [
    "### Exercise 2-3.\n",
    "- Generate set set1 containing elements 5, 4, 2, 7\n",
    "- Generate set set2 containing elements 2, 7, 1, 9\n",
    "- Compute *union* of two sets set1 and set2\n",
    "- Compute *intersection* of two sets set1 and set2"
   ]
  },
  {
   "cell_type": "code",
   "execution_count": null,
   "metadata": {
    "collapsed": true
   },
   "outputs": [],
   "source": [
    "## Your answer"
   ]
  },
  {
   "cell_type": "markdown",
   "metadata": {},
   "source": [
    "## 4. Dictionary\n",
    "- Dictionary elements comprise each key-value pair\n",
    "- Dictionary does not have order; dictionary elements can be accessed via keys"
   ]
  },
  {
   "cell_type": "markdown",
   "metadata": {},
   "source": [
    "### Creating dictionaries"
   ]
  },
  {
   "cell_type": "code",
   "execution_count": 32,
   "metadata": {},
   "outputs": [
    {
     "name": "stdout",
     "output_type": "stream",
     "text": [
      "<class 'dict'>\n",
      "John\n",
      "Jackson\n"
     ]
    }
   ],
   "source": [
    "# When creating dictionaries, value for each key should be addressed\n",
    "d1 = {1: 'John', 2: 'Jane', 3: 'Jackson'}\n",
    "print(type(d1))\n",
    "print(d1[1])\n",
    "print(d1[3])"
   ]
  },
  {
   "cell_type": "code",
   "execution_count": 33,
   "metadata": {},
   "outputs": [
    {
     "name": "stdout",
     "output_type": "stream",
     "text": [
      "{'a': 1, 'b': 2, 'c': 3}\n",
      "{'a': 1, 'b': 2, 'c': 3, 'd': 4}\n",
      "{'b': 2, 'c': 3, 'd': 4}\n"
     ]
    }
   ],
   "source": [
    "d2 = {'a': 1, 'b': 2, 'c': 3}\n",
    "print(d2)\n",
    "d2['d'] = 4                        # adding element\n",
    "print(d2)\n",
    "del d2['a']                        # deleting element\n",
    "print(d2)"
   ]
  },
  {
   "cell_type": "markdown",
   "metadata": {},
   "source": [
    "### Dictionary functions\n",
    "- items()\n",
    "- keys()\n",
    "- values()"
   ]
  },
  {
   "cell_type": "code",
   "execution_count": 34,
   "metadata": {
    "collapsed": true
   },
   "outputs": [],
   "source": [
    "d3 = {'AL': 'Alabama', 'AK': 'Alaska', 'AZ': 'Arizona', 'AR': 'Arkansas', 'CA': 'California'}"
   ]
  },
  {
   "cell_type": "code",
   "execution_count": 37,
   "metadata": {},
   "outputs": [
    {
     "name": "stdout",
     "output_type": "stream",
     "text": [
      "dict_items([('AL', 'Alabama'), ('AK', 'Alaska'), ('AZ', 'Arizona'), ('AR', 'Arkansas'), ('CA', 'California')])\n"
     ]
    }
   ],
   "source": [
    "# items() returns each item in tuple\n",
    "d3_items = d3.items()\n",
    "print(d3_items)"
   ]
  },
  {
   "cell_type": "code",
   "execution_count": 38,
   "metadata": {},
   "outputs": [
    {
     "name": "stdout",
     "output_type": "stream",
     "text": [
      "dict_keys(['AL', 'AK', 'AZ', 'AR', 'CA'])\n"
     ]
    }
   ],
   "source": [
    "# keys() return all keys in dict\n",
    "d3_keys = d3.keys()\n",
    "print(d3_keys)"
   ]
  },
  {
   "cell_type": "code",
   "execution_count": 39,
   "metadata": {},
   "outputs": [
    {
     "name": "stdout",
     "output_type": "stream",
     "text": [
      "dict_values(['Alabama', 'Alaska', 'Arizona', 'Arkansas', 'California'])\n"
     ]
    }
   ],
   "source": [
    "# values() return all values in dict\n",
    "d3_values = d3.values()\n",
    "print(d3_values)"
   ]
  },
  {
   "cell_type": "markdown",
   "metadata": {},
   "source": [
    "### Exercise 2-4.\n",
    "- Create dictionary containing key-value pairs below; values should be *tuples*\n",
    "    - Create list l1 containing value mapped from key 'Odd'. Print out list l1\n",
    "    - Add element to dictionary with key & value of\n",
    "        - key: 'All'\n",
    "        - value: (1, 2, 3, 4, 5, 6, 7, 8, 9, 10)\n",
    "    - Delete key 'Odd' and values mapped from it\n",
    "<br>\n",
    "\n",
    "| Key     | Value                  |\n",
    "|---------|------------------------|\n",
    "|'Even'   |(2, 4, 6, 8, 10)        |\n",
    "|'Odd'    |(1, 3, 5, 7, 9)         |\n",
    "|'Prime'  |(2, 3, 5, 7)            |\n"
   ]
  },
  {
   "cell_type": "code",
   "execution_count": null,
   "metadata": {
    "collapsed": true
   },
   "outputs": [],
   "source": [
    "## Your answer"
   ]
  }
 ],
 "metadata": {
  "kernelspec": {
   "display_name": "Python 3",
   "language": "python",
   "name": "python3"
  },
  "language_info": {
   "codemirror_mode": {
    "name": "ipython",
    "version": 3
   },
   "file_extension": ".py",
   "mimetype": "text/x-python",
   "name": "python",
   "nbconvert_exporter": "python",
   "pygments_lexer": "ipython3",
   "version": "3.6.1"
  }
 },
 "nbformat": 4,
 "nbformat_minor": 2
}
