{
 "cells": [
  {
   "cell_type": "markdown",
   "metadata": {},
   "source": [
    "# Data Visualization\n",
    "- Using ```matplotlib``` Pythonic way\n",
    "- More plots"
   ]
  },
  {
   "cell_type": "code",
   "execution_count": null,
   "metadata": {
    "collapsed": true
   },
   "outputs": [],
   "source": [
    "# importing pyplot\n",
    "import matplotlib.pyplot as plt   # usually, pyplot is imported under alias plt\n",
    "import numpy as np\n",
    "import pandas as pd"
   ]
  },
  {
   "cell_type": "markdown",
   "metadata": {},
   "source": [
    "## 1. Using matplotlib  Pythonic way\n",
    "- Some of you might have noticed a subtle difference, but there exist two different approaches to using ```matplotlib```\n",
    "    - Interactive, yet non-Pythonic way\n",
    "    - Object-oriented and Pythonic way"
   ]
  },
  {
   "cell_type": "markdown",
   "metadata": {},
   "source": [
    "### Interactive way\n",
    "- This is relatively easy and simple way, effective when using ```matplotlib``` as interactive use"
   ]
  },
  {
   "cell_type": "code",
   "execution_count": null,
   "metadata": {
    "collapsed": true
   },
   "outputs": [],
   "source": [
    "X = np.arange(100)\n",
    "Y = np.random.randn(100) * 10"
   ]
  },
  {
   "cell_type": "code",
   "execution_count": null,
   "metadata": {},
   "outputs": [],
   "source": [
    "plt.plot(X, Y, label = 'Y', color = 'blue', marker = '*')\n",
    "plt.title('Random Numbers')\n",
    "plt.xlabel('X')\n",
    "plt.ylabel('Y')\n",
    "plt.grid(True)\n",
    "plt.legend()\n",
    "plt.savefig('Random Numbers.png')\n",
    "plt.show()\n",
    "plt.close()"
   ]
  },
  {
   "cell_type": "markdown",
   "metadata": {},
   "source": [
    "### Object-oriented way\n",
    "- This method entails creating ```figure``` instances and drawing plots on them using methods in ```figure``` class\n",
    "    - ```subplots``` (```axes```) are contained in ```figures```\n",
    "- By doing so, one can effectively manage and fine-tune different ```figures```\n",
    "\n",
    "<br>\n",
    "<img src=\"https://datascienceschool.net/upfiles/4e20efe6352e4f4fac65c26cb660f522.png\" style=\"width: 400px\"/>"
   ]
  },
  {
   "cell_type": "code",
   "execution_count": null,
   "metadata": {},
   "outputs": [],
   "source": [
    "# explicitly creating figure instance\n",
    "fig = plt.figure(num = 1, figsize = (10, 5), facecolor = 'w', edgecolor = 'b')\n",
    "ax1 = fig.add_subplot(2, 1, 1)      # creating first subplot\n",
    "ax2 = fig.add_subplot(2, 1, 2)      # creating second subplot\n",
    "plt.show()"
   ]
  },
  {
   "cell_type": "code",
   "execution_count": null,
   "metadata": {},
   "outputs": [],
   "source": [
    "# how to create figure and subplots at once\n",
    "fig, (ax1, ax2) = plt.subplots(nrows = 2, ncols = 1, figsize = (10, 5), facecolor = 'w', edgecolor = 'b')\n",
    "plt.show()"
   ]
  },
  {
   "cell_type": "code",
   "execution_count": null,
   "metadata": {},
   "outputs": [],
   "source": [
    "# getting list of subplots\n",
    "print(fig.get_axes())\n",
    "# removing subplot\n",
    "fig.delaxes(ax1)\n",
    "print(fig.get_axes())"
   ]
  },
  {
   "cell_type": "code",
   "execution_count": null,
   "metadata": {},
   "outputs": [],
   "source": [
    "# generating sine graph Pythonic way\n",
    "x = np.linspace(0, 20, 1000)\n",
    "y = np.sin(x)\n",
    "\n",
    "fig = plt.figure(figsize = (10, 5))\n",
    "ax = fig.add_subplot(1,1,1)\n",
    "ax.plot(x, y, 'g--', linewidth = 3, label = r'$y=\\sin(x)$')\n",
    "\n",
    "ax.set_ylabel(r'$y$', fontsize = 15)\n",
    "ax.set_xlabel(r'$x$', fontsize = 15)\n",
    "ax.legend(loc = 'best')\n",
    "ax.grid(True)\n",
    "\n",
    "fig.suptitle('Sine graph', fontsize = 25)\n",
    "plt.show()"
   ]
  },
  {
   "cell_type": "markdown",
   "metadata": {},
   "source": [
    "### Exercise 2-1.\n",
    "- Create a line plot of ```x``` and ```y``` data below \n",
    "    - Interactive way\n",
    "    - Object-oriented way\n",
    "- Settings\n",
    "    - Title: ```\"X and Y\"```\n",
    "    - Grid: ```True```\n",
    "    - X label: ```\"X\"```\n",
    "    - Y label: ```\"Y\"```"
   ]
  },
  {
   "cell_type": "code",
   "execution_count": null,
   "metadata": {},
   "outputs": [],
   "source": [
    "## Your answer\n",
    "x = np.array([9, 10, 5, 4, 7])\n",
    "y = np.array([2, 4, 11, 6, 3])\n",
    "\n",
    "# Interactive way\n",
    "plt.plot(x, y)\n",
    "plt.title('X and Y')\n",
    "plt.grid(True)\n",
    "plt.xlabel('X')\n",
    "plt.ylabel('Y')\n",
    "plt.show()"
   ]
  },
  {
   "cell_type": "code",
   "execution_count": null,
   "metadata": {},
   "outputs": [],
   "source": [
    "## Your answer\n",
    "x = np.array([9, 10, 5, 4, 7])\n",
    "y = np.array([2, 4, 11, 6, 3])\n",
    "\n",
    "# OO way\n",
    "fig = plt.figure()\n",
    "ax = fig.add_subplot(1, 1, 1)\n",
    "ax.plot(x, y)\n",
    "ax.set_xlabel('X')\n",
    "ax.set_ylabel('Y')\n",
    "ax.grid(True)\n",
    "fig.suptitle('X and Y')\n",
    "plt.show()"
   ]
  },
  {
   "cell_type": "markdown",
   "metadata": {},
   "source": [
    "## 2. More plots\n",
    "- Scatterplot\n",
    "- Bar chart"
   ]
  },
  {
   "cell_type": "markdown",
   "metadata": {},
   "source": [
    "### Scatterplot\n",
    "- ```plt.scatter()```"
   ]
  },
  {
   "cell_type": "code",
   "execution_count": null,
   "metadata": {},
   "outputs": [],
   "source": [
    "# basic scatterplot\n",
    "x = np.random.rand(100)\n",
    "y = np.random.rand(100)\n",
    "\n",
    "fig = plt.figure(1, figsize = (10, 6), facecolor = None, edgecolor = 'b')\n",
    "ax = fig.add_subplot(2, 1, 1)\n",
    "ax.scatter(x, y, color = 'b')\n",
    "plt.show()"
   ]
  },
  {
   "cell_type": "code",
   "execution_count": null,
   "metadata": {},
   "outputs": [],
   "source": [
    "# fancier scatterplot\n",
    "x = np.random.rand(100)\n",
    "y = np.random.rand(100)\n",
    "c = np.random.rand(100)\n",
    "a = np.random.rand(100)*100\n",
    "\n",
    "fig = plt.figure(1, figsize = (10, 6), facecolor = None, edgecolor = 'b')\n",
    "ax = fig.add_subplot(2, 1, 1)\n",
    "ax.scatter(x, y, c = c, s = a)\n",
    "plt.show()"
   ]
  },
  {
   "cell_type": "markdown",
   "metadata": {},
   "source": [
    "### Bar chart\n",
    "- ```plt.bar()```\n",
    "- ```plt.barh()```"
   ]
  },
  {
   "cell_type": "code",
   "execution_count": null,
   "metadata": {},
   "outputs": [],
   "source": [
    "y = np.random.randn(10) * 10\n",
    "x = np.arange(10)\n",
    "\n",
    "fig = plt.figure(1, figsize = (10, 5), facecolor = None, edgecolor = 'b')\n",
    "# vertical bar chart\n",
    "ax1 = fig.add_subplot(2, 1, 1)\n",
    "ax1.bar(x, y)\n",
    "# horizontal bar chart\n",
    "ax2 = fig.add_subplot(2, 1, 2)\n",
    "ax2.barh(x, y)\n",
    "plt.show()"
   ]
  },
  {
   "cell_type": "code",
   "execution_count": null,
   "metadata": {},
   "outputs": [],
   "source": [
    "# changing labels\n",
    "y = np.random.randn(10)\n",
    "x = np.arange(10)\n",
    "labels = ['a', 'b', 'c', 'd', 'e', 'f', 'g', 'h', 'i', 'j']\n",
    "\n",
    "fig = plt.figure(1, figsize = (10, 5), facecolor = None, edgecolor = 'b')\n",
    "ax = fig.add_subplot(2, 1, 1)\n",
    "ax.bar(x, y, color = 'wheat', edgecolor = 'tan', linewidth = 1.0)\n",
    "plt.xticks(x, labels)    # setting x labels\n",
    "\n",
    "ax2 = fig.add_subplot(2, 1, 2)\n",
    "ax2.barh(x, y, color = 'wheat', edgecolor = 'tan', linewidth = 1.0)\n",
    "plt.yticks(x, labels)    # setting y labels\n",
    "plt.show()"
   ]
  },
  {
   "cell_type": "code",
   "execution_count": null,
   "metadata": {},
   "outputs": [],
   "source": [
    "# side by side bar chart\n",
    "y1 = np.array([7, 4, 9, 5, 1])\n",
    "y2 = np.array([5, 2, 1, 4, 7])\n",
    "\n",
    "labels = ['A', 'B', 'C', 'D', 'E']\n",
    "xlocs = np.arange(5)\n",
    "\n",
    "fig = plt.figure(1, figsize = (10, 5), facecolor = None, edgecolor = 'b')\n",
    "ax = fig.add_subplot(1, 1, 1)\n",
    "width = 0.3\n",
    "ax.bar(xlocs - width, y1, width, color = 'g', label = 'Y1')\n",
    "ax.bar(xlocs, y2, width, color = 'm', label = 'Y2')\n",
    "ax.yaxis.grid(True)\n",
    "ax.legend(loc = 'best')\n",
    "ax.set_ylabel('Y1 and Y2')\n",
    "plt.xticks(xlocs - 0.5 * width, labels)\n",
    "plt.show()"
   ]
  },
  {
   "cell_type": "code",
   "execution_count": null,
   "metadata": {},
   "outputs": [],
   "source": [
    "# stacked bar chart\n",
    "y1 = np.array([7, 4, 9, 5, 1])\n",
    "y2 = np.array([5, 2, 1, 4, 7])\n",
    "\n",
    "labels = ['A', 'B', 'C', 'D', 'E']\n",
    "xlocs = np.arange(5)\n",
    "\n",
    "fig = plt.figure(1, figsize = (10, 7), facecolor = None, edgecolor = 'b')\n",
    "ax = fig.add_subplot(1, 1, 1)\n",
    "width = 0.5\n",
    "ax.bar(xlocs, y1, width, color = 'g', label = 'Y1')\n",
    "ax.bar(xlocs, y2, width, color = 'm', label = 'Y2', bottom = y1)\n",
    "ax.yaxis.grid(True)\n",
    "ax.legend(loc = 'best')\n",
    "ax.set_ylabel('Y1 and Y2')\n",
    "plt.xticks(xlocs, labels)\n",
    "plt.show()"
   ]
  },
  {
   "cell_type": "markdown",
   "metadata": {},
   "source": [
    "### Exercise 2-2.\n",
    "- Import ```star.xlsx``` file using ```pd.read_excel()``` function\n",
    "    - Original data source: https://www.kaggle.com/mariopasquato/star-cluster-simulations\n",
    "- Plot ```x``` and ```y``` using ```plt.scatter()```\n",
    "    - Use ```id``` variable as color of each star\n",
    "    - Use absolute values of ```z``` as size of each star"
   ]
  },
  {
   "cell_type": "code",
   "execution_count": null,
   "metadata": {},
   "outputs": [],
   "source": [
    "## Your answer\n",
    "star = pd.read_excel('star.xlsx')\n",
    "X = np.asarray(star['x'])\n",
    "Y = np.asarray(star['y'])\n",
    "size = np.asarray(np.abs(star['z'])) * 20\n",
    "color = np.asarray(star['id'])\n",
    "\n",
    "fig = plt.figure(1, figsize = (10, 10))\n",
    "ax = fig.add_subplot(1, 1, 1)\n",
    "ax.scatter(X, Y, s = size, c = color)\n",
    "ax.set_xlabel(\"X coordinate\")\n",
    "ax.set_ylabel(\"Y coordinate\")\n",
    "plt.show()"
   ]
  },
  {
   "cell_type": "markdown",
   "metadata": {},
   "source": [
    "### Exercise 2-3.\n",
    "- Import ```happiness_2016.csv``` file using ```pd.read_csv()``` function\n",
    "    - Original data source: https://www.kaggle.com/unsdsn/world-happiness/data\n",
    "- Plot and compare ```Happiness Score``` of ```Western Europe``` countries using ```plt.bar()```"
   ]
  },
  {
   "cell_type": "code",
   "execution_count": null,
   "metadata": {},
   "outputs": [],
   "source": [
    "## Your answer\n",
    "df = pd.read_csv('happiness_2016.csv')\n",
    "df = df[df['Region'] == 'Western Europe'].reset_index(drop = True)\n",
    "\n",
    "labels = df['Country']\n",
    "scores = df['Happiness Score']\n",
    "xlocs = np.arange(len(labels))\n",
    "\n",
    "fig = plt.figure(1, figsize = (15, 5), facecolor = 'wheat')\n",
    "ax = fig.add_subplot(1, 1, 1)\n",
    "width = 0.2\n",
    "ax.bar(xlocs, scores, width, color = 'cornflowerblue', label = 'Happiness Score')\n",
    "ax.yaxis.grid(True)\n",
    "ax.legend(loc = 'best')\n",
    "ax.set_ylabel('Happiness Score')\n",
    "plt.xticks(xlocs, labels, fontsize = 6)\n",
    "plt.show()"
   ]
  },
  {
   "cell_type": "markdown",
   "metadata": {},
   "source": [
    "### Exercise 2-4.\n",
    "- Using ```happiness_2016``` dataset above, compare ```Health (Life Expectancy)``` and ```Freedom``` of ```Western Europe``` countries using side-by-side bar chart"
   ]
  },
  {
   "cell_type": "code",
   "execution_count": null,
   "metadata": {},
   "outputs": [],
   "source": [
    "## Your answer\n",
    "df = pd.read_csv('happiness_2016.csv')\n",
    "df = df[df['Region'] == 'Western Europe'].reset_index(drop = True)\n",
    "\n",
    "labels = df['Country']\n",
    "health = df['Health (Life Expectancy)']\n",
    "freedom = df['Freedom']\n",
    "xlocs = np.arange(len(labels))\n",
    "\n",
    "fig = plt.figure(1, figsize = (15, 5), facecolor = 'wheat')\n",
    "ax = fig.add_subplot(1, 1, 1)\n",
    "width = 0.2\n",
    "ax.bar(xlocs - width, health, width, color = 'darkkhaki', label = 'Health')\n",
    "ax.bar(xlocs, freedom, width, color = 'salmon', label = 'Freedom')\n",
    "ax.yaxis.grid(True)\n",
    "ax.legend(loc = 'best')\n",
    "ax.set_ylabel('Scores')\n",
    "plt.xticks(xlocs - 0.5 * width, labels, fontsize = 6)\n",
    "plt.show()"
   ]
  }
 ],
 "metadata": {
  "kernelspec": {
   "display_name": "Python 3",
   "language": "python",
   "name": "python3"
  },
  "language_info": {
   "codemirror_mode": {
    "name": "ipython",
    "version": 3
   },
   "file_extension": ".py",
   "mimetype": "text/x-python",
   "name": "python",
   "nbconvert_exporter": "python",
   "pygments_lexer": "ipython3",
   "version": "3.6.1"
  }
 },
 "nbformat": 4,
 "nbformat_minor": 2
}
