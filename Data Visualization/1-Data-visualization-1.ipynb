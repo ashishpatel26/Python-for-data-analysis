{
 "cells": [
  {
   "cell_type": "markdown",
   "metadata": {},
   "source": [
    "# Data Visualization\n",
    "- Matplotlib\n",
    "- Basic plots\n",
    "- Figures and subplots\n",
    "- More plot settings\n",
    "    - Plotting variables\n",
    "    - Plotting time-series data¶"
   ]
  },
  {
   "cell_type": "markdown",
   "metadata": {},
   "source": [
    "## 1. Matplotlib\n",
    "- Matplotlib is a Python 2D plotting library which produces publication quality figures \n",
    "- Documentation: https://matplotlib.org/contents.html\n",
    "\n",
    "<img src=\"http://wiki.openhatch.org/images/d/d8/Matplotlib_gallery.png\" stype= \"width: 10px\"/>\n",
    "<br>\n",
    "- ```matplotlib.pyplot``` is a collection of command style functions that make matplotlib work like MATLAB\n",
    "    - Each ```pyplot``` function makes some change to a figure: e.g., creates a figure, creates a plotting area in a figure, plots some lines in a plotting area, decorates the plot with labels, etc"
   ]
  },
  {
   "cell_type": "code",
   "execution_count": null,
   "metadata": {
    "collapsed": true
   },
   "outputs": [],
   "source": [
    "# importing pyplot\n",
    "import matplotlib.pyplot as plt   # usually, pyplot is imported under alias plt\n",
    "import numpy as np\n",
    "import pandas as pd"
   ]
  },
  {
   "cell_type": "markdown",
   "metadata": {},
   "source": [
    "## 2. Basic plots\n",
    "- Plots can be drawn using ```plot()``` function"
   ]
  },
  {
   "cell_type": "code",
   "execution_count": null,
   "metadata": {
    "collapsed": true
   },
   "outputs": [],
   "source": [
    "# creating simple plot\n",
    "plt.plot(np.arange(1, 6))     # Integers 1 to 5\n",
    "plt.ylabel('Five integers')   # setting y-label axis\n",
    "plt.show()"
   ]
  },
  {
   "cell_type": "code",
   "execution_count": null,
   "metadata": {
    "collapsed": true
   },
   "outputs": [],
   "source": [
    "# plot() with two parameters, x and y\n",
    "# x = np.arange(1,6)\n",
    "# y = np.arange(6, 11)\n",
    "plt.plot(np.arange(1,6), np.arange(6, 11))\n",
    "plt.show()"
   ]
  },
  {
   "cell_type": "code",
   "execution_count": null,
   "metadata": {
    "collapsed": true
   },
   "outputs": [],
   "source": [
    "# creating a scatterplot\n",
    "plt.plot(np.arange(1,6), np.arange(1,6), 'bo')    # set style as 'blue circle'\n",
    "plt.show()"
   ]
  },
  {
   "cell_type": "code",
   "execution_count": null,
   "metadata": {
    "collapsed": true
   },
   "outputs": [],
   "source": [
    "# it is possible to create different plots and visualize them together\n",
    "plt.plot(np.arange(1,6), np.arange(6, 11), 'ro')        # set style as 'red circle'\n",
    "plt.plot(np.arange(1,6), np.arange(1,6), 'bs')          # set style as 'blue square'\n",
    "plt.plot(np.arange(1,6), np.linspace(1, 3, 5), 'g^')    # set style as 'green triangle'\n",
    "plt.show()"
   ]
  },
  {
   "cell_type": "code",
   "execution_count": null,
   "metadata": {
    "collapsed": true
   },
   "outputs": [],
   "source": [
    "# it is possible to set them in same line as well\n",
    "plt.plot(np.arange(1,6), np.arange(6, 11), 'ro', np.arange(1,6), np.arange(1,6), 'bs')\n",
    "plt.show()"
   ]
  },
  {
   "cell_type": "code",
   "execution_count": null,
   "metadata": {
    "collapsed": true
   },
   "outputs": [],
   "source": [
    "# setting axis \n",
    "plt.plot(np.arange(1,6), np.arange(1,6), 'bo')\n",
    "plt.axis([0, 10, 0, 10])    # [x_min, x_max, y_min, y_max]\n",
    "plt.show()"
   ]
  },
  {
   "cell_type": "markdown",
   "metadata": {},
   "source": [
    "## 3. Figures and subplots\n",
    "- ```Figure``` is like a paper that plots are drawn\n",
    "- ```Subplot``` is one of \"plots\" in ```Figure```\n",
    "    - ```Subplots``` can be generated using ```add_subplot()``` function\n",
    "- When not explicitly setting ```Figure``` and ```Subplot```, such instances are generated automatically"
   ]
  },
  {
   "cell_type": "code",
   "execution_count": null,
   "metadata": {
    "collapsed": true
   },
   "outputs": [],
   "source": [
    "# generating figure and subplot\n",
    "fig_one = plt.figure(1)\n",
    "fig_one.add_subplot(111)     # generate subplot of size 1 X 1 \n",
    "plt.show()"
   ]
  },
  {
   "cell_type": "code",
   "execution_count": null,
   "metadata": {
    "collapsed": true
   },
   "outputs": [],
   "source": [
    "# if one wants to create several plots ...\n",
    "fig_one = plt.figure(1)\n",
    "plot_one = fig_one.add_subplot(211)     # generate subplot of size 2 X 1 (first position)\n",
    "plot_two = fig_one.add_subplot(212)     # generate subplot of size 2 X 1 second position)\n",
    "plt.show()"
   ]
  },
  {
   "cell_type": "code",
   "execution_count": null,
   "metadata": {
    "collapsed": true
   },
   "outputs": [],
   "source": [
    "# if one wants to create several plots ...\n",
    "fig_one = plt.figure(1)\n",
    "plot_one = fig_one.add_subplot(121)     # generate subplot of size 1 X 2 (first position)\n",
    "plot_two = fig_one.add_subplot(122)     # generate subplot of size 1 X 2 second position)\n",
    "plt.show()"
   ]
  },
  {
   "cell_type": "code",
   "execution_count": null,
   "metadata": {
    "collapsed": true,
    "scrolled": true
   },
   "outputs": [],
   "source": [
    "# generating figure with different sizes\n",
    "fig_one = plt.figure(figsize = (8, 4))\n",
    "plot_one = fig_one.add_subplot(211)     # generate subplot of size 2 X 1 (first position)\n",
    "fig_two = plt.figure(figsize = (4, 8))\n",
    "plot_two = fig_two.add_subplot(121)     # generating subplot of size 1`X 2 (first position)\n",
    "plt.show()"
   ]
  },
  {
   "cell_type": "code",
   "execution_count": null,
   "metadata": {
    "collapsed": true
   },
   "outputs": [],
   "source": [
    "# drawing plots in multiple axes\n",
    "x = np.arange(5)\n",
    "y = np.arange(5)\n",
    "z = y ** 2\n",
    "fig_one = plt.figure(figsize = (8, 4))\n",
    "fig_one.add_subplot(211)     # generate subplot of size 2 X 1 (first position)\n",
    "plt.plot(x, y, 'ro')\n",
    "fig_one.add_subplot(212)     # generate subplot of size 2 X 1 (second position)\n",
    "plt.plot(y, z, 'g^')\n",
    "plt.show()"
   ]
  },
  {
   "cell_type": "code",
   "execution_count": null,
   "metadata": {
    "collapsed": true
   },
   "outputs": [],
   "source": [
    "# tuning figure settings\n",
    "plt.rcParams[\"figure.figsize\"] = (10,4)\n",
    "plt.rcParams['lines.linewidth'] = 1\n",
    "plt.rcParams['figure.facecolor'] = 'y'\n",
    "plt.rcParams['axes.grid'] = True\n",
    "\n",
    "x = np.arange(5)\n",
    "y = np.arange(5)\n",
    "fig_one = plt.figure()     \n",
    "fig_one.add_subplot(111)      \n",
    "plt.plot(x, y)\n",
    "\n",
    "plt.rcParams['lines.linewidth'] = 5\n",
    "plt.rcParams['figure.facecolor'] = 'w'\n",
    "plt.rcParams['axes.grid'] = False\n",
    "\n",
    "fig_two = plt.figure()\n",
    "fig.add_subplot(111)\n",
    "plt.plot(x,y)\n",
    "\n",
    "plt.show()"
   ]
  },
  {
   "cell_type": "markdown",
   "metadata": {},
   "source": [
    "## 4. More plot settings\n",
    "- Plotting variables\n",
    "- Plotting time-series data¶"
   ]
  },
  {
   "cell_type": "markdown",
   "metadata": {},
   "source": [
    "### Plotting variables"
   ]
  },
  {
   "cell_type": "code",
   "execution_count": null,
   "metadata": {
    "collapsed": true,
    "scrolled": true
   },
   "outputs": [],
   "source": [
    "# import glass dataset\n",
    "col_names = ['RI', 'Na', 'Mg', 'Al', 'Si', 'K', 'Ca', 'Ba', 'Fe', 'Type']\n",
    "df = pd.read_table('https://archive.ics.uci.edu/ml/machine-learning-databases/glass/glass.data', \\\n",
    "                   sep = ',', header = None, index_col = 0, names = col_names)\n",
    "print(df.head())"
   ]
  },
  {
   "cell_type": "code",
   "execution_count": null,
   "metadata": {
    "collapsed": true
   },
   "outputs": [],
   "source": [
    "# Creating scatterplot with one variable\n",
    "# Note that this plot does not convey much information - index is meaningless\n",
    "plt.plot(df['RI'], 'ro')\n",
    "plt.xlabel('Index')\n",
    "plt.ylabel('RI')\n",
    "plt.show()"
   ]
  },
  {
   "cell_type": "code",
   "execution_count": null,
   "metadata": {
    "collapsed": true
   },
   "outputs": [],
   "source": [
    "# Creating scatterplot with two variables\n",
    "# Now we can see interacting effect bw two variables\n",
    "plt.plot(df['Na'], df['Mg'], 'bo')\n",
    "plt.xlabel('Na')\n",
    "plt.ylabel('Mg')\n",
    "plt.show()"
   ]
  },
  {
   "cell_type": "code",
   "execution_count": null,
   "metadata": {
    "collapsed": true
   },
   "outputs": [],
   "source": [
    "# Creating scatterplot with two variables\n",
    "# Labeling each variable\n",
    "# Now, index has some meaning\n",
    "plt.plot(df['Na'], 'bo', label = 'Na')\n",
    "plt.plot(df['Mg'], 'r^', label = 'Mg')\n",
    "plt.xlabel('Index')\n",
    "plt.legend()                               # adding legend to plot\n",
    "plt.title('Plotting Na and Mg variables')  # adding title to plot\n",
    "plt.show()"
   ]
  },
  {
   "cell_type": "code",
   "execution_count": null,
   "metadata": {
    "collapsed": true
   },
   "outputs": [],
   "source": [
    "# changing settings\n",
    "plt.plot(df['Na'], 'bo', label = 'Na')\n",
    "plt.plot(df['Mg'], 'r^', label = 'Mg')\n",
    "plt.xlabel('Index')\n",
    "plt.legend(loc = 'lower left')             # moving legend \n",
    "plt.title('Plotting Na and Mg variables', fontdict = {'fontsize': 20})  # making title bigger\n",
    "plt.show()"
   ]
  },
  {
   "cell_type": "markdown",
   "metadata": {},
   "source": [
    "### Plotting time-series data"
   ]
  },
  {
   "cell_type": "code",
   "execution_count": null,
   "metadata": {},
   "outputs": [],
   "source": [
    "# import NationalNames Dataset\n",
    "# Dataset containing name counts of each name from 1880 ~\n",
    "df = pd.read_csv('NationalNames.csv', index_col = 'Name')\n",
    "print(df.head())\n",
    "del df['Id']       # delete Id column\n",
    "print(df.head())"
   ]
  },
  {
   "cell_type": "code",
   "execution_count": null,
   "metadata": {
    "collapsed": true
   },
   "outputs": [],
   "source": [
    "# extracting only partial information\n",
    "df_partial = df.loc[['Jane', 'Alice', 'Elizabeth', 'Stella', 'Mathilda']]\n",
    "df_partial.to_csv('NationalNames_partial.csv')"
   ]
  },
  {
   "cell_type": "code",
   "execution_count": null,
   "metadata": {
    "collapsed": true
   },
   "outputs": [],
   "source": [
    "# importing partial dataset\n",
    "df_partial = pd.read_csv('NationalNames_partial.csv', index_col = 'Name' )\n",
    "print(df_partial.head())"
   ]
  },
  {
   "cell_type": "code",
   "execution_count": null,
   "metadata": {
    "collapsed": true
   },
   "outputs": [],
   "source": [
    "# select only name 'Jane'\n",
    "df_jane = df_partial.loc[['Jane']]\n",
    "df_jane.set_index('Gender', inplace=True)\n",
    "print(df_jane.head())"
   ]
  },
  {
   "cell_type": "code",
   "execution_count": null,
   "metadata": {
    "collapsed": true
   },
   "outputs": [],
   "source": [
    "# separate statistics of female/male \n",
    "jane_female = df_jane.loc[['F']]\n",
    "jane_male = df_jane.loc[['M']]\n",
    "print(jane_female.head())\n",
    "print(jane_male.head())"
   ]
  },
  {
   "cell_type": "code",
   "execution_count": null,
   "metadata": {
    "collapsed": true
   },
   "outputs": [],
   "source": [
    "plt.rcParams[\"figure.figsize\"] = (10,5)\n",
    "plt.rcParams['lines.linewidth'] = 1\n",
    "\n",
    "plt.figure(1)\n",
    "plt.subplot(111)\n",
    "plt.plot(jane_female['Year'], jane_female['Count'], 'r--', label = 'Female')\n",
    "plt.plot(jane_male['Year'], jane_male['Count'], 'b:', label = 'Male')\n",
    "plt.legend()\n",
    "plt.show()"
   ]
  },
  {
   "cell_type": "code",
   "execution_count": null,
   "metadata": {
    "collapsed": true
   },
   "outputs": [],
   "source": [
    "# calibrating settings for visibility\n",
    "plt.rcParams[\"figure.figsize\"] = (15,5)\n",
    "plt.rcParams['lines.linewidth'] = 3\n",
    "\n",
    "plt.figure(1)\n",
    "plt.subplot(111)\n",
    "plt.plot(jane_female['Year'], jane_female['Count'], 'r-', label = 'Female')\n",
    "plt.plot(jane_male['Year'], jane_male['Count'], 'b-', label = 'Male')\n",
    "plt.legend()\n",
    "plt.show()"
   ]
  },
  {
   "cell_type": "markdown",
   "metadata": {},
   "source": [
    "Now, we want to compare two names - Jane & Alice. Compare only female names!"
   ]
  },
  {
   "cell_type": "code",
   "execution_count": null,
   "metadata": {
    "collapsed": true
   },
   "outputs": [],
   "source": [
    "df_jane = df_partial.loc[['Jane']]\n",
    "df_jane.set_index('Gender', inplace=True)\n",
    "print(df_jane.head())\n",
    "df_alice = df_partial.loc[['Alice']]\n",
    "df_alice.set_index('Gender', inplace=True)\n",
    "print(df_alice.head())"
   ]
  },
  {
   "cell_type": "code",
   "execution_count": null,
   "metadata": {
    "collapsed": true
   },
   "outputs": [],
   "source": [
    "df_jane = df_jane.loc[['F']]\n",
    "df_alice = df_alice.loc[['F']]"
   ]
  },
  {
   "cell_type": "code",
   "execution_count": null,
   "metadata": {
    "collapsed": true
   },
   "outputs": [],
   "source": [
    "# by comparing two (female) names, you can see the overall trend\n",
    "plt.rcParams[\"figure.figsize\"] = (15,5)\n",
    "plt.rcParams['lines.linewidth'] = 3\n",
    "\n",
    "plt.figure(1)\n",
    "plt.subplot(111)\n",
    "plt.plot(df_jane['Year'], df_jane['Count'], 'r-', label = 'Jane')\n",
    "plt.plot(df_alice['Year'], df_alice['Count'], 'b-', label = 'Alice')\n",
    "plt.legend()\n",
    "plt.show()"
   ]
  },
  {
   "cell_type": "markdown",
   "metadata": {},
   "source": [
    "### Exercise 1-1.\n",
    "- Using data in ```df_partial```, compare other name trends (Elizabeth, Stella, and Mathilda)\n",
    "- Try diverse settings!"
   ]
  },
  {
   "cell_type": "code",
   "execution_count": null,
   "metadata": {
    "collapsed": true
   },
   "outputs": [],
   "source": [
    "## Your answer"
   ]
  },
  {
   "cell_type": "markdown",
   "metadata": {},
   "source": [
    "### Exercise 1-2.\n",
    "- Using ```NationalNames.csv```, visualize naming trend of some **male** names that you are interested in\n",
    "- Try diverse settings!"
   ]
  },
  {
   "cell_type": "code",
   "execution_count": null,
   "metadata": {
    "collapsed": true
   },
   "outputs": [],
   "source": [
    "## Your answer"
   ]
  }
 ],
 "metadata": {
  "kernelspec": {
   "display_name": "Python 3",
   "language": "python",
   "name": "python3"
  },
  "language_info": {
   "codemirror_mode": {
    "name": "ipython",
    "version": 3
   },
   "file_extension": ".py",
   "mimetype": "text/x-python",
   "name": "python",
   "nbconvert_exporter": "python",
   "pygments_lexer": "ipython3",
   "version": "3.6.1"
  }
 },
 "nbformat": 4,
 "nbformat_minor": 2
}
