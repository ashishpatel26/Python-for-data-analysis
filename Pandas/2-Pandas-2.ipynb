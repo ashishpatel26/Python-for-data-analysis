{
 "cells": [
  {
   "cell_type": "markdown",
   "metadata": {},
   "source": [
    "# Pandas Primer - 2\n",
    "- Reading files\n",
    "    - CSV files\n",
    "    - Excel files\n",
    "    - URL\n",
    "- Exporting data\n",
    "- Exploring data\n",
    "    - Summarizing data\n",
    "    - Visualizing data"
   ]
  },
  {
   "cell_type": "code",
   "execution_count": null,
   "metadata": {
    "collapsed": true
   },
   "outputs": [],
   "source": [
    "import pandas as pd"
   ]
  },
  {
   "cell_type": "markdown",
   "metadata": {},
   "source": [
    "## 1. Reading files\n",
    "- Pandas supports reading files from diverse source\n",
    "    - CSV file\n",
    "    - Excel file\n",
    "    - etc\n",
    "- Data in files are saved as DataFrame"
   ]
  },
  {
   "cell_type": "markdown",
   "metadata": {},
   "source": [
    "### CSV files\n",
    "- CSV files can be read using ```read_csv()``` function"
   ]
  },
  {
   "cell_type": "code",
   "execution_count": null,
   "metadata": {
    "collapsed": true
   },
   "outputs": [],
   "source": [
    "# reading csv file\n",
    "# with default parameter settings, index is set [0, 1, ... , n-1] (when there are n rows)\n",
    "# first row is used as header (column names)\n",
    "df = pd.read_csv('glass.csv')\n",
    "print(df.head())\n",
    "print(df.columns)\n",
    "print(df.index)\n",
    "print(df.shape)"
   ]
  },
  {
   "cell_type": "code",
   "execution_count": null,
   "metadata": {
    "collapsed": true
   },
   "outputs": [],
   "source": [
    "# reading csv file with parameter settings\n",
    "# header is set to None => use arbitray column names, not first row\n",
    "# use first column as index (IDs from 1 to n)\n",
    "df = pd.read_csv('glass.csv', header = None, index_col = 0)\n",
    "print(df.head())\n",
    "print(df.columns)\n",
    "print(df.index)\n",
    "print(df.shape)"
   ]
  },
  {
   "cell_type": "code",
   "execution_count": null,
   "metadata": {
    "collapsed": true
   },
   "outputs": [],
   "source": [
    "# designating column names\n",
    "# each element in col_names list is set to each column name\n",
    "col_names = ['RI', 'Na', 'Mg', 'Al', 'Si', 'K', 'Ca', 'Ba', 'Fe', 'Type']\n",
    "df = pd.read_csv('glass.csv', header = None, index_col = 0, names = col_names)\n",
    "print(df.head())\n",
    "print(df.columns)\n",
    "print(df.index)\n",
    "print(df.shape)"
   ]
  },
  {
   "cell_type": "markdown",
   "metadata": {},
   "source": [
    "### Excel files\n",
    "- Excel files(```.xlsx``` or ```.xls```) can be read using ```read_excel()``` function"
   ]
  },
  {
   "cell_type": "markdown",
   "metadata": {},
   "source": [
    "### CPU data\n",
    "- Relative performance of different CPUs\n",
    "- source: https://archive.ics.uci.edu/ml/machine-learning-databases/cpu-performance/\n",
    "- Number of instances (# rows): 209\n",
    "- Number of attributes (# cols): 10\n",
    "    - vendor name: adviser, amdahl,apollo, basf, bti, burroughs, c.r.d, cambex, cdc, dec, \n",
    "       dg, formation, four-phase, gould, honeywell, hp, ibm, ipl, magnuson, \n",
    "       microdata, nas, ncr, nixdorf, perkin-elmer, prime, siemens, sperry, \n",
    "       sratus, wang)\n",
    "    - Model Name : many unique symbols\n",
    "    - MYCT: machine cycle time in nanoseconds (integer)\n",
    "    - MMIN: minimum main memory in kilobytes (integer)\n",
    "    - MMAX: maximum main memory in kilobytes (integer)\n",
    "    - CACH: cache memory in kilobytes (integer)\n",
    "    - CHMIN: minimum channels in units (integer)\n",
    "    - CHMAX: maximum channels in units (integer)\n",
    "    - PRP: published relative performance (integer)\n",
    "    - ERP: estimated relative performance from the original article (integer)"
   ]
  },
  {
   "cell_type": "code",
   "execution_count": null,
   "metadata": {
    "collapsed": true
   },
   "outputs": [],
   "source": [
    "# reading excel file without parameter settings\n",
    "# note that first row is used as header as default\n",
    "df = pd.read_excel('cpu.xlsx')\n",
    "print(df.head())\n",
    "print(df.columns)\n",
    "print(df.index)\n",
    "print(df.shape)"
   ]
  },
  {
   "cell_type": "code",
   "execution_count": null,
   "metadata": {
    "collapsed": true
   },
   "outputs": [],
   "source": [
    "# if there are several sheets, sheet_name parameter should be set\n",
    "df = pd.read_excel('cpu.xlsx', sheet_name = 'Sheet1')\n",
    "print(df.head())"
   ]
  },
  {
   "cell_type": "markdown",
   "metadata": {},
   "source": [
    "### Reading data from URL\n",
    "- Read data directly from URL using ```read_table()```, ```read_csv()```, or ```read_excel()``` \n",
    "    - Which function to use? *Depends on the situation*\n",
    "    - Try out all three of them, and satisfice when results are met\n",
    "- Valid URL schemes include ```http, ftp, s3```, and file"
   ]
  },
  {
   "cell_type": "code",
   "execution_count": null,
   "metadata": {
    "collapsed": true
   },
   "outputs": [],
   "source": [
    "# using read_table() to read data from url\n",
    "df = pd.read_table('https://archive.ics.uci.edu/ml/machine-learning-databases/cpu-performance/machine.data' \\\n",
    "                  , sep = ',')\n",
    "print(df.head())"
   ]
  },
  {
   "cell_type": "code",
   "execution_count": null,
   "metadata": {
    "collapsed": true
   },
   "outputs": [],
   "source": [
    "# using read_csv() to read data from url\n",
    "url=\"https://raw.githubusercontent.com/cs109/2014_data/master/countries.csv\"\n",
    "df = pd.read_csv(url)\n",
    "print(df.head())"
   ]
  },
  {
   "cell_type": "markdown",
   "metadata": {},
   "source": [
    "## 2. Exporting data\n",
    "- Using Pandas, it is also convenient to export data "
   ]
  },
  {
   "cell_type": "code",
   "execution_count": null,
   "metadata": {
    "collapsed": true
   },
   "outputs": [],
   "source": [
    "l1 = [1., 2., 3., 4., 5.]\n",
    "l2 = [1, 2, 3, 4, 5]\n",
    "l3 = ['a', 'b', 'c', 'd', 'e']\n",
    "l4 = ['A', 'B', 'C', 'D', 'E']\n",
    "df = pd.DataFrame({'float': l1, 'int': l2, 'lower': l3, 'upper': l4})\n",
    "print(df)"
   ]
  },
  {
   "cell_type": "code",
   "execution_count": null,
   "metadata": {
    "collapsed": true
   },
   "outputs": [],
   "source": [
    "# saving CSV file\n",
    "df.to_csv('csv_example.csv')"
   ]
  },
  {
   "cell_type": "code",
   "execution_count": null,
   "metadata": {
    "collapsed": true
   },
   "outputs": [],
   "source": [
    "# saving excel file\n",
    "df.to_excel('excel_example.xlsx')"
   ]
  },
  {
   "cell_type": "markdown",
   "metadata": {},
   "source": [
    "## 3. Exploring data\n",
    "- Pandas provides convenient ways to explore data"
   ]
  },
  {
   "cell_type": "markdown",
   "metadata": {},
   "source": [
    "### Summarizing data"
   ]
  },
  {
   "cell_type": "code",
   "execution_count": null,
   "metadata": {
    "collapsed": true
   },
   "outputs": [],
   "source": [
    "# we keep our example with CPU data\n",
    "df = pd.read_excel('cpu.xlsx')\n",
    "print(df.head())       # first 5 rows\n",
    "print(df.tail())       # last 5 rows"
   ]
  },
  {
   "cell_type": "code",
   "execution_count": null,
   "metadata": {
    "collapsed": true
   },
   "outputs": [],
   "source": [
    "# summarizing whole DataFrame\n",
    "# columns with numerical values are described\n",
    "print(df.describe())"
   ]
  },
  {
   "cell_type": "code",
   "execution_count": null,
   "metadata": {
    "collapsed": true
   },
   "outputs": [],
   "source": [
    "# describing only one column at a time\n",
    "print(df['MYCT'].describe())"
   ]
  },
  {
   "cell_type": "markdown",
   "metadata": {},
   "source": [
    "### Visualizing data"
   ]
  },
  {
   "cell_type": "code",
   "execution_count": null,
   "metadata": {
    "collapsed": true
   },
   "outputs": [],
   "source": [
    "# plotting dataset\n",
    "import matplotlib.pyplot as plt\n",
    "df.plot()\n",
    "plt.show()"
   ]
  },
  {
   "cell_type": "code",
   "execution_count": null,
   "metadata": {
    "collapsed": true
   },
   "outputs": [],
   "source": [
    "# plotting variable (column)\n",
    "df['MYCT'].plot()\n",
    "plt.show()"
   ]
  },
  {
   "cell_type": "code",
   "execution_count": null,
   "metadata": {
    "collapsed": true
   },
   "outputs": [],
   "source": [
    "# plotting multiple columns at a time\n",
    "df[['MYCT', 'CACH']].plot()\n",
    "plt.show()"
   ]
  },
  {
   "cell_type": "code",
   "execution_count": null,
   "metadata": {
    "collapsed": true
   },
   "outputs": [],
   "source": [
    "# what about categorical variables?\n",
    "counts = df['vendor_name'].value_counts()\n",
    "counts.plot(kind = 'bar')\n",
    "plt.show()"
   ]
  },
  {
   "cell_type": "markdown",
   "metadata": {},
   "source": [
    "### Exercise 2-1.\n",
    "- Import dataset as DataFrame in below URL, by three methods\n",
    "    - Export directly via URL\n",
    "    - Save dataset as CSV file, and import\n",
    "    - Save dataset as Excel file, and import\n",
    "- URL: https://archive.ics.uci.edu/ml/machine-learning-databases/auto-mpg/auto-mpg.data"
   ]
  },
  {
   "cell_type": "code",
   "execution_count": null,
   "metadata": {
    "collapsed": true
   },
   "outputs": [],
   "source": [
    "## Your answer"
   ]
  },
  {
   "cell_type": "markdown",
   "metadata": {},
   "source": [
    "### Exercise 2-2.\n",
    "- Describe first three variables (columns) of dataset imported above\n",
    "- Plot three variables \n",
    "- Count number of instances in last column (car name), and identify which car names occurs most frequently"
   ]
  },
  {
   "cell_type": "code",
   "execution_count": null,
   "metadata": {
    "collapsed": true
   },
   "outputs": [],
   "source": [
    "## Your answer"
   ]
  },
  {
   "cell_type": "markdown",
   "metadata": {},
   "source": [
    "### Exercise 2-3.\n",
    "- Convert above DataFrame into NumPy array (excluding last column)\n",
    "- Compute average and standard deviation of each column\n",
    "     - use ```mean()``` and ```std()``` functions\n",
    "- Perform same action to original DataFrame\n",
    "    - Are the results identical?"
   ]
  },
  {
   "cell_type": "code",
   "execution_count": null,
   "metadata": {
    "collapsed": true
   },
   "outputs": [],
   "source": [
    "## Your answer"
   ]
  }
 ],
 "metadata": {
  "kernelspec": {
   "display_name": "Python 3",
   "language": "python",
   "name": "python3"
  },
  "language_info": {
   "codemirror_mode": {
    "name": "ipython",
    "version": 3
   },
   "file_extension": ".py",
   "mimetype": "text/x-python",
   "name": "python",
   "nbconvert_exporter": "python",
   "pygments_lexer": "ipython3",
   "version": "3.6.1"
  }
 },
 "nbformat": 4,
 "nbformat_minor": 2
}
